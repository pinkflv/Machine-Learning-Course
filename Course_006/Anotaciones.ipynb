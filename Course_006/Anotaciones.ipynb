{
 "cells": [
  {
   "cell_type": "markdown",
   "id": "8fac81eb",
   "metadata": {},
   "source": [
    "# Machine Learning Course - Day 6"
   ]
  },
  {
   "cell_type": "markdown",
   "id": "0e962fdd",
   "metadata": {},
   "source": [
    "Pandas es una biblioteca de python que se utiliza para trabajar con conjuntos de datos\n",
    "\n",
    "- tiene funciones que permiten analisar los datos\n",
    "\n",
    "Pandas te ayuda a procesar los datos antes de que siquiera empieces a trabajar, a esto se le llama limpieza de datos\n",
    "Si no se especifica nada mas, los valores se etiquetan con su numero de indica, el primero siempre tiene velor de 0\n",
    "\n",
    "Para tener series, es posible utilizar objetos de python como lo son los diccionarios, de esta forma convertimos las\n",
    "claves del diccionario en etiquetas"
   ]
  },
  {
   "cell_type": "markdown",
   "id": "60922277",
   "metadata": {},
   "source": []
  }
 ],
 "metadata": {
  "interpreter": {
   "hash": "7f8b8ff422d2ecc6ce58078be4c9d3ca712ae43126dd3eecc3379410a87d5d27"
  },
  "kernelspec": {
   "display_name": "Python 3 (ipykernel)",
   "language": "python",
   "name": "python3"
  },
  "language_info": {
   "codemirror_mode": {
    "name": "ipython",
    "version": 3
   },
   "file_extension": ".py",
   "mimetype": "text/x-python",
   "name": "python",
   "nbconvert_exporter": "python",
   "pygments_lexer": "ipython3",
   "version": "3.10.4"
  }
 },
 "nbformat": 4,
 "nbformat_minor": 5
}
