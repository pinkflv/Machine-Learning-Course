{
 "cells": [
  {
   "cell_type": "markdown",
   "id": "8fac81eb",
   "metadata": {},
   "source": [
    "# Actividad 6 - Medicion de Error"
   ]
  },
  {
   "cell_type": "markdown",
   "id": "f2d26a6d",
   "metadata": {},
   "source": [
    "### Mean Square Error (MSE)"
   ]
  },
  {
   "cell_type": "markdown",
   "id": "116f889a",
   "metadata": {},
   "source": [
    "En la estadistica, el MSE es una estimacion basada en el promedio de los cuadrados de los errores, esta es la diferencia entre los valores estimados y los valores reales.\n",
    "MSE es una funcion riesgosa, correspondiendo a el valor esperado de la perdida de datos.\n",
    "El hecho de que MSE es practicamente siempre positivo y no cero es debido a randomizidad, o por que la estimacion no cuenta informacion que podria producir una estimacion mas acertada."
   ]
  },
  {
   "cell_type": "markdown",
   "id": "de86f694",
   "metadata": {},
   "source": [
    "### Mean Absolute Error (MAE)"
   ]
  },
  {
   "cell_type": "markdown",
   "id": "0bc0b156",
   "metadata": {},
   "source": [
    "En estadística, el error absoluto medio (MAE) es una medida de errores entre observaciones pareadas que expresan el mismo fenómeno. Los ejemplos de Y versus X incluyen comparaciones de predicción versus observada, tiempo posterior versus tiempo inicial, y una técnica de medición versus una técnica alternativa de medición. MAE se calcula como la suma de errores absolutos divididos por el tamaño de la muestra Tenga en cuenta que las formulaciones alternativas pueden incluir frecuencias relativas como factores de peso. El error absoluto medio utiliza la misma escala que los datos que se están midiendo. Esto se conoce como una medida de precisión dependiente de la escala y, por lo tanto, no se puede usar para hacer comparaciones entre series utilizando diferentes escalas. El error absoluto medio es una medida común del error de pronóstico en el análisis de series temporales, a veces se usa en confusión con la definición más estándar de desviación absoluta media. La misma confusión existe de manera más general."
   ]
  },
  {
   "cell_type": "markdown",
   "id": "66052305",
   "metadata": {},
   "source": [
    "### Root Mean Square Error (RMSE)"
   ]
  },
  {
   "cell_type": "markdown",
   "id": "84478609",
   "metadata": {},
   "source": [
    "La desviación raíz-media-cuadrado (RMSD) o el error raíz-media-cuadrado (RMSE) es una medida de uso frecuente de las diferencias entre los valores (valores de muestra o población) predichos por un modelo o un estimador y los valores observados. El RMSD representa la raíz cuadrada del segundo momento muestral de las diferencias entre los valores predichos y los valores observados o la media cuadrática de estas diferencias. Estas desviaciones se denominan residuales cuando los cálculos se realizan sobre la muestra de datos que se utilizó para la estimación y se denominan errores (o errores de predicción) cuando se calculan fuera de la muestra. El RMSD sirve para agregar las magnitudes de los errores en las predicciones para varios puntos de datos en una sola medida de poder predictivo. RMSD es una medida de precisión, para comparar errores de pronóstico de diferentes modelos para un conjunto de datos en particular y no entre conjuntos de datos, ya que depende de la escala."
   ]
  },
  {
   "cell_type": "markdown",
   "id": "9b37337a",
   "metadata": {},
   "source": [
    "### R al cuadrado (R2)"
   ]
  },
  {
   "cell_type": "markdown",
   "id": "8bf6a754",
   "metadata": {},
   "source": [
    "Es otra medida que podemos usar para evaluar un modelo y está estrechamente relacionada con la MSE, pero tiene la ventaja de estar libre de escala , no importa si Los valores de salida son muy grandes o muy pequeños, el R² siempre estará entre -∞ y 1.\n",
    "Cuando R² es negativo, significa que el modelo es peor que predecir la media. El modelo más simple posible sería predecir siempre el promedio de todas las muestras. Un valor cercano a 1 indica un modelo con error cercano a cero, y un valor cercano a cero indica un modelo muy cercano a la línea de base."
   ]
  }
 ],
 "metadata": {
  "interpreter": {
   "hash": "7f8b8ff422d2ecc6ce58078be4c9d3ca712ae43126dd3eecc3379410a87d5d27"
  },
  "kernelspec": {
   "display_name": "Python 3 (ipykernel)",
   "language": "python",
   "name": "python3"
  },
  "language_info": {
   "codemirror_mode": {
    "name": "ipython",
    "version": 3
   },
   "file_extension": ".py",
   "mimetype": "text/x-python",
   "name": "python",
   "nbconvert_exporter": "python",
   "pygments_lexer": "ipython3",
   "version": "3.10.4"
  }
 },
 "nbformat": 4,
 "nbformat_minor": 5
}
