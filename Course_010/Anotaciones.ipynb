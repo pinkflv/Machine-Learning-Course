{
 "cells": [
  {
   "cell_type": "markdown",
   "id": "8fac81eb",
   "metadata": {},
   "source": [
    "# Machine Learning Course - Day 10\n"
   ]
  },
  {
   "cell_type": "markdown",
   "id": "f2d26a6d",
   "metadata": {},
   "source": [
    "# Transformacion de datos"
   ]
  },
  {
   "cell_type": "markdown",
   "id": "c37af38d",
   "metadata": {},
   "source": [
    "Que son los datos categoricos?\n",
    "\n",
    "Primero que nada, tenemos lo que son los datos Ordenados: estos son los datos categoricos que tengan algun orden, como expedientes, listas, etc.\n",
    "por otro lado, tenemos los datos categoricos Nominales: estos son los que no llevan algun tipo de orden, como nacionalidad, correos, etc.\n"
   ]
  },
  {
   "cell_type": "markdown",
   "id": "51bfa5b8",
   "metadata": {},
   "source": [
    "Cardinalidad:\n",
    "\n",
    "Una cardinalidad se refiere a que tiene unbicidad en los datos, lo cual, en un ejemplo seria, una tabala con una columna con muchisimos valores"
   ]
  },
  {
   "cell_type": "markdown",
   "id": "405dc943",
   "metadata": {},
   "source": [
    "Ocurrencias raras:\n",
    "\n",
    "Esetos datos pueden tener variables que ocurren rara vez, lo que significaria que no tienen un impacto significativo en el modelo.\n",
    "\n",
    "Ocurrencias frecuentes:\n",
    "\n",
    "Estos datos pueden tener variables que ocurren de forma muy frecuente con poca variacion, lo cual podria generar fallas al tener un impacto en el modelo.\n"
   ]
  },
  {
   "cell_type": "markdown",
   "id": "7e5f2d80",
   "metadata": {},
   "source": [
    "# Regresion\n"
   ]
  },
  {
   "cell_type": "markdown",
   "id": "670c356b",
   "metadata": {},
   "source": [
    "El analisis de regresion es una herramienta de frecuente uso en estadistica. La cual permite investigar las relaciones entre diferentes variables cuantitativas. Esto, mediante la formulacion de ecuaciones matematicas.\n",
    "\n",
    "En estadistica, el analisis de la regresion es un proceso estadisctico para estimar las relaciones entre variables. Se centra en estudiar las relaciones entre una variable dependiente de una o mas variables independientes."
   ]
  }
 ],
 "metadata": {
  "interpreter": {
   "hash": "7f8b8ff422d2ecc6ce58078be4c9d3ca712ae43126dd3eecc3379410a87d5d27"
  },
  "kernelspec": {
   "display_name": "Python 3 (ipykernel)",
   "language": "python",
   "name": "python3"
  },
  "language_info": {
   "codemirror_mode": {
    "name": "ipython",
    "version": 3
   },
   "file_extension": ".py",
   "mimetype": "text/x-python",
   "name": "python",
   "nbconvert_exporter": "python",
   "pygments_lexer": "ipython3",
   "version": "3.10.4"
  }
 },
 "nbformat": 4,
 "nbformat_minor": 5
}
