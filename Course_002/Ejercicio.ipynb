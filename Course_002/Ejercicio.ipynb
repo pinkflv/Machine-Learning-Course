{
 "cells": [
  {
   "cell_type": "markdown",
   "id": "cebbe26a",
   "metadata": {},
   "source": [
    "# Machine Learning Course - Day 2"
   ]
  },
  {
   "cell_type": "markdown",
   "id": "c140ab56",
   "metadata": {},
   "source": [
    "Primeramente crearemos un bloque de Hola mundo en python utilizando Jupyter"
   ]
  },
  {
   "cell_type": "code",
   "execution_count": 1,
   "id": "f59b089f",
   "metadata": {},
   "outputs": [
    {
     "name": "stdout",
     "output_type": "stream",
     "text": [
      "Hola Mundo\n"
     ]
    }
   ],
   "source": [
    "print(\"Hola Mundo\")"
   ]
  },
  {
   "cell_type": "markdown",
   "id": "696c145c",
   "metadata": {},
   "source": [
    "Ahora vamos a hacer la declaracion de variables "
   ]
  },
  {
   "cell_type": "code",
   "execution_count": 2,
   "id": "6756b732",
   "metadata": {},
   "outputs": [],
   "source": [
    "a = 10\n",
    "b = 20.2\n",
    "c = '30'"
   ]
  },
  {
   "cell_type": "markdown",
   "id": "004754f3",
   "metadata": {},
   "source": [
    "y mostraremos las variables almacenadas"
   ]
  },
  {
   "cell_type": "code",
   "execution_count": 14,
   "id": "cb036bca",
   "metadata": {},
   "outputs": [
    {
     "name": "stdout",
     "output_type": "stream",
     "text": [
      "Primera variable: 10 \n",
      "Segunda variable: 20.2 \n",
      "Tercera variable: 30\n"
     ]
    }
   ],
   "source": [
    "print(\"Primera variable: \" +str(a)+ \" \\nSegunda variable: \" +str(b)+ \" \\nTercera variable: \" +c)"
   ]
  },
  {
   "cell_type": "markdown",
   "id": "b689cc79",
   "metadata": {},
   "source": [
    "Nota: recuerda que el valor de los numeros arriba necesita que se le haga un parse, ya que no puedes concadenar variables int, con variables string, por lo que tienes que usar la funcion str() para hacer ese parseo\n",
    "\n",
    "Para saber que tipo de variable estamos utilizando usaremos la funcion type()"
   ]
  },
  {
   "cell_type": "code",
   "execution_count": 4,
   "id": "508398ef",
   "metadata": {},
   "outputs": [
    {
     "name": "stdout",
     "output_type": "stream",
     "text": [
      "<class 'int'> <class 'float'> <class 'str'>\n"
     ]
    }
   ],
   "source": [
    "print(type(a), type(b), type(c))"
   ]
  },
  {
   "cell_type": "markdown",
   "id": "49d6b7b0",
   "metadata": {},
   "source": [
    "Para trabajar en python es recomendable utilizar snake_case para poder nombrar las variables"
   ]
  },
  {
   "cell_type": "code",
   "execution_count": 9,
   "id": "ff280b9d",
   "metadata": {},
   "outputs": [],
   "source": [
    "mis_variables = \"deberian estar nombradas en este formato\"\n",
    "peroNo = \"deberian ser nombradas en este formato, o empezando con numeros\""
   ]
  },
  {
   "cell_type": "markdown",
   "id": "7692ffb5",
   "metadata": {},
   "source": [
    "Tratandose de esta version de python, estaremos creando un switch \n",
    "\n",
    "Es importante notar que cuando trabajamos en python, de las cosas mas importantes a tomar en cuenta es cuando identamos, ya que por medio del tabulado es como identificamos que un elemento o un segmento de texto pertenece a una estructura de control, como es el caso de el siguiente switch, un if, un for, etc."
   ]
  },
  {
   "cell_type": "code",
   "execution_count": 10,
   "id": "9b16db31",
   "metadata": {},
   "outputs": [
    {
     "name": "stdout",
     "output_type": "stream",
     "text": [
      "Este debe ser el caso de uso para este switch en python\n"
     ]
    }
   ],
   "source": [
    "caso_de_uso = 3\n",
    "match caso_de_uso:\n",
    "    case 1:\n",
    "        print(\"No deberias estar imprimiendo este caso\")\n",
    "    case 2:\n",
    "        print(\"Este tampoco deberia ser un caso\")\n",
    "    case 3: \n",
    "        print(\"Este debe ser el caso de uso para este switch en python\")"
   ]
  },
  {
   "cell_type": "markdown",
   "id": "e37ffcc0",
   "metadata": {},
   "source": [
    "Python puede llegar a tener muchas similitudes a Matlab y R, como la asignacion de variables continuas"
   ]
  },
  {
   "cell_type": "code",
   "execution_count": 13,
   "id": "b7934849",
   "metadata": {},
   "outputs": [
    {
     "name": "stdout",
     "output_type": "stream",
     "text": [
      "El valor de x: 1\n",
      "El valor de z: 3\n"
     ]
    }
   ],
   "source": [
    "x,y,z = 1,2,3\n",
    "print(\"El valor de x: \" +str(x)+ \"\\nEl valor de z: \" +str(z))"
   ]
  },
  {
   "cell_type": "markdown",
   "id": "916cad5e",
   "metadata": {},
   "source": [
    "Para usar operadores logicos y relacionales dentro de python podemos asignar el valor booleano directamente a las variables o simplemente podemos hacer la igualacion entre valores para obtener el resultado\n",
    "\n",
    "Como podemos ver en el ejemplo que sigue, nuestros booleanos pueden identificar si usamos un 0 o 1, o si usamos un True o False, para distinguir nuestros booleanos"
   ]
  },
  {
   "cell_type": "code",
   "execution_count": 15,
   "id": "3f1b5d5c",
   "metadata": {},
   "outputs": [
    {
     "name": "stdout",
     "output_type": "stream",
     "text": [
      "Toma el valor como falso\n",
      "Toma el valor como verdadero\n"
     ]
    }
   ],
   "source": [
    "condicion_uno = 0\n",
    "condicion_dos = True\n",
    "if condicion_uno:\n",
    "    print(\"Toma el valor como verdadero\")\n",
    "else:\n",
    "    print(\"Toma el valor como falso\")\n",
    "\n",
    "if condicion_dos:\n",
    "    print(\"Toma el valor como verdadero\")\n",
    "else:\n",
    "    print(\"Toma el valor como falso\")\n",
    "    "
   ]
  },
  {
   "cell_type": "markdown",
   "id": "64c88d6b",
   "metadata": {},
   "source": [
    "Para crear comentarios dentro de nuestro codigo, utilizamos el simbolo '#' al inicio de la linea que queremos destacar como comentario\n"
   ]
  },
  {
   "cell_type": "code",
   "execution_count": 23,
   "id": "73ae1d43",
   "metadata": {},
   "outputs": [
    {
     "name": "stdout",
     "output_type": "stream",
     "text": [
      "El value jamas se sobreescribio, aun es 10\n"
     ]
    }
   ],
   "source": [
    "# Este es un ejemplo de un codigo comentado, aunque usemos fracciones de codigo, no se ejecutara\n",
    "value = 5\n",
    "# value = 10\n",
    "if value == 10:\n",
    "    print(\"El value es 10\")\n",
    "else:\n",
    "    print(\"El value jamas se sobreescribio, aun es \" +str(10))"
   ]
  },
  {
   "cell_type": "markdown",
   "id": "262895f5",
   "metadata": {},
   "source": [
    "# Colecciones dentro de python"
   ]
  },
  {
   "cell_type": "markdown",
   "id": "0538c4cc",
   "metadata": {},
   "source": [
    "Tenemos 4 tipos de colecciones dentro de python, estos son las listas, tuplas, "
   ]
  },
  {
   "cell_type": "code",
   "execution_count": 2,
   "id": "f5516a50",
   "metadata": {},
   "outputs": [
    {
     "name": "stdout",
     "output_type": "stream",
     "text": [
      "['Jesus', 'Maria', 'Jose']\n"
     ]
    }
   ],
   "source": [
    "lista = [\"Jesus\", \"Maria\", \"Jose\"]\n",
    "print(lista)"
   ]
  },
  {
   "cell_type": "markdown",
   "id": "48f9e226",
   "metadata": {},
   "source": [
    "Las listas enumeran los valores que se encuentran dentrode las mismas, esto, empezando desde 0. En caso de querer obtener el valor de alguna posicion, solo deberemos especificar la posicion"
   ]
  },
  {
   "cell_type": "code",
   "execution_count": 26,
   "id": "1cecf9f2",
   "metadata": {},
   "outputs": [
    {
     "name": "stdout",
     "output_type": "stream",
     "text": [
      "El primer nombre en la lista es: Jesus\n"
     ]
    }
   ],
   "source": [
    "print(\"El primer nombre en la lista es: \" +lista[0])"
   ]
  },
  {
   "cell_type": "markdown",
   "id": "05d503d6",
   "metadata": {},
   "source": [
    "Para modificar las listas tenemos muchas funciones que nos apoyan en la edicion de las listas como append(), remove(), count(), etc."
   ]
  },
  {
   "cell_type": "code",
   "execution_count": 3,
   "id": "cc18e16f",
   "metadata": {},
   "outputs": [
    {
     "name": "stdout",
     "output_type": "stream",
     "text": [
      "['Jesus', 'Maria', 'Jose', 'Diosito']\n",
      "['Jesus', 'Jose', 'Diosito']\n"
     ]
    }
   ],
   "source": [
    "lista.append(\"Diosito\")\n",
    "print(lista)\n",
    "lista.remove(\"Maria\")\n",
    "print(lista)"
   ]
  }
 ],
 "metadata": {
  "kernelspec": {
   "display_name": "Python 3 (ipykernel)",
   "language": "python",
   "name": "python3"
  },
  "language_info": {
   "codemirror_mode": {
    "name": "ipython",
    "version": 3
   },
   "file_extension": ".py",
   "mimetype": "text/x-python",
   "name": "python",
   "nbconvert_exporter": "python",
   "pygments_lexer": "ipython3",
   "version": "3.10.4"
  }
 },
 "nbformat": 4,
 "nbformat_minor": 5
}
