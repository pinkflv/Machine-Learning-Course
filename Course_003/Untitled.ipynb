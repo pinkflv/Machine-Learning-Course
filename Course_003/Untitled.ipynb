{
 "cells": [
  {
   "cell_type": "markdown",
   "id": "8fac81eb",
   "metadata": {},
   "source": [
    "# Machine Learning Course - Day 3"
   ]
  },
  {
   "cell_type": "markdown",
   "id": "91fcd839",
   "metadata": {},
   "source": [
    "Colecciones y ciclos en python"
   ]
  },
  {
   "cell_type": "markdown",
   "id": "0e962fdd",
   "metadata": {},
   "source": [
    "Como se vio en la clase anterior, las listas pueden tener una coleccion de datros dentro de si, esto, dentro de los simbolos []"
   ]
  },
  {
   "cell_type": "code",
   "execution_count": 2,
   "id": "b53ffe20",
   "metadata": {},
   "outputs": [],
   "source": [
    "lista_valores = [\"Juan\", \"Pedro\", \"Daniel\"]"
   ]
  },
  {
   "cell_type": "markdown",
   "id": "3045eefb",
   "metadata": {},
   "source": [
    "Para poder moverse entre una coleccion nosotros tenemos la opcion de usar diferentes ciclos, un ejemplo de ellos es el ciclo for"
   ]
  },
  {
   "cell_type": "code",
   "execution_count": 3,
   "id": "c94b4751",
   "metadata": {},
   "outputs": [
    {
     "name": "stdout",
     "output_type": "stream",
     "text": [
      "0\n",
      "1\n",
      "2\n",
      "3\n",
      "4\n",
      "5\n",
      "6\n",
      "7\n",
      "8\n",
      "9\n"
     ]
    }
   ],
   "source": [
    "for i in  range(10):\n",
    "    print(i)"
   ]
  },
  {
   "cell_type": "markdown",
   "id": "3cde69bc",
   "metadata": {},
   "source": [
    "En caso de que quisieramos mostrar los datos almacenados en la lista de valores creada, podriamos utilizar el for para poder navegarlo\n",
    "\n",
    "Nota: hay que recordar que las colecciones siempre empiezan desde el 0"
   ]
  },
  {
   "cell_type": "code",
   "execution_count": 6,
   "id": "ee83e944",
   "metadata": {},
   "outputs": [
    {
     "name": "stdout",
     "output_type": "stream",
     "text": [
      "Juan\n",
      "Pedro\n",
      "Daniel\n"
     ]
    }
   ],
   "source": [
    "for nombre in lista_valores:\n",
    "    print(nombre)"
   ]
  },
  {
   "cell_type": "markdown",
   "id": "cb0271ce",
   "metadata": {},
   "source": [
    "Aun que tengamos ciclos determinados, como en el primer ejemplo que mostramos 10 datos, podemos llegar a detener la iteracion utilizando la palabra reservada break\n",
    "\n",
    "En el siguiente ejemplo, vamos a hacer un ciclo que deberia ejecutarse 10 veces, pero al encontrarse con el valor 4, usamos un break y termina la ejecucion del ciclo"
   ]
  },
  {
   "cell_type": "code",
   "execution_count": 7,
   "id": "de483fe7",
   "metadata": {},
   "outputs": [
    {
     "name": "stdout",
     "output_type": "stream",
     "text": [
      "0\n",
      "1\n",
      "2\n",
      "3\n"
     ]
    }
   ],
   "source": [
    "for i in range(10):\n",
    "    if i == 4:\n",
    "        break\n",
    "    print(i)"
   ]
  },
  {
   "cell_type": "markdown",
   "id": "0a79b573",
   "metadata": {},
   "source": [
    "Tambien podemos hacer que, en dado caso de que un for, no se pueda ejecutar, agregar un else, para que de esta forma podamos ejecutar un bloque de codigo adicional\n",
    "\n",
    "Nota: en caso de que detengamos la ejecucion con un break, el else no se ejecutara"
   ]
  },
  {
   "cell_type": "code",
   "execution_count": 11,
   "id": "888ede6a",
   "metadata": {},
   "outputs": [
    {
     "name": "stdout",
     "output_type": "stream",
     "text": [
      "No se pudo ejecutar el ciclo\n"
     ]
    }
   ],
   "source": [
    "val_inicial = 10\n",
    "val_final = 1\n",
    "for i in range(val_inicial, val_final):\n",
    "    print(i)\n",
    "else:\n",
    "    print(\"No se pudo ejecutar el ciclo\")"
   ]
  },
  {
   "cell_type": "markdown",
   "id": "c07cb16d",
   "metadata": {},
   "source": [
    "En caso de que querramos ejecutar una iteracion, sin saber la cantidad de veces que esta sera ejecutada, utilizaremos un ciclo while\n",
    "\n",
    "Nota: al igual que el ciclo for, podemos interrumpir la ejecucion en cualquier momento"
   ]
  },
  {
   "cell_type": "code",
   "execution_count": 13,
   "id": "adebf5b7",
   "metadata": {},
   "outputs": [
    {
     "name": "stdout",
     "output_type": "stream",
     "text": [
      "0\n",
      "1\n",
      "2\n",
      "3\n",
      "4\n",
      "5\n",
      "6\n",
      "7\n",
      "8\n",
      "9\n"
     ]
    }
   ],
   "source": [
    "i = 0\n",
    "while(i<10):\n",
    "    print(i)\n",
    "    i = i + 1"
   ]
  },
  {
   "cell_type": "markdown",
   "id": "7501e49f",
   "metadata": {},
   "source": [
    "Las tuplas son colecciones de datos muy similares a las listas, sin embargo, no pueden ser modificadas"
   ]
  },
  {
   "cell_type": "code",
   "execution_count": 15,
   "id": "ac7eea65",
   "metadata": {},
   "outputs": [],
   "source": [
    "tupla_valores = (\"Juan\", \"Pedro\", \"Daniel\", [1,2,3], 20)"
   ]
  },
  {
   "cell_type": "markdown",
   "id": "1eb46b21",
   "metadata": {},
   "source": [
    "Otro ejemplo de una coleccion de datos, son los sets de datos.\n",
    "Similares a los ejemplos anteriores, nos sirven para almacenar datos, pero, no pueden ser modificados y estos no se muestran con un orden especifico\n",
    "Adicionalmente, si quieres agregar un valor duplicado, este no sera tomado en cuenta, ya que los valores duplicados los detecta directamente el set y no lo agrega"
   ]
  },
  {
   "cell_type": "code",
   "execution_count": 19,
   "id": "adc71b4c",
   "metadata": {},
   "outputs": [
    {
     "name": "stdout",
     "output_type": "stream",
     "text": [
      "{'Pedro', 'Juan', 'Daniel'}\n"
     ]
    }
   ],
   "source": [
    "set_valores = {\"Juan\", \"Pedro\", \"Daniel\"}\n",
    "print(set_valores)"
   ]
  },
  {
   "cell_type": "markdown",
   "id": "b21aada2",
   "metadata": {},
   "source": [
    "En dado caso que querramos verificar la existencia de un dato en un set, podemos usar la palabra in, y especificar tanto el dato que buscamos, como el set de datos que queremos usar"
   ]
  },
  {
   "cell_type": "code",
   "execution_count": 23,
   "id": "ac007341",
   "metadata": {},
   "outputs": [
    {
     "name": "stdout",
     "output_type": "stream",
     "text": [
      "True\n",
      "False\n"
     ]
    }
   ],
   "source": [
    "print(\"Juan\" in set_valores)\n",
    "print(\"Roberto\" in set_valores)"
   ]
  },
  {
   "cell_type": "markdown",
   "id": "33c86614",
   "metadata": {},
   "source": [
    "Finalmente, podemos encontrar una de las colecciones mas utiles que utiliza python, esta es el diccionario\n",
    "Este sigue una estructura similar a un Json, en la cual tenemos una key y un value, ambos separados por dos puntos y una coma entre cada item"
   ]
  },
  {
   "cell_type": "code",
   "execution_count": 2,
   "id": "b92f9bb4",
   "metadata": {},
   "outputs": [
    {
     "name": "stdout",
     "output_type": "stream",
     "text": [
      "{'nombre': 'Juan', 'edad': 23, 'es_adulto': True}\n"
     ]
    }
   ],
   "source": [
    "diccionario_values = {\n",
    "    \"nombre\":\"Juan\", \n",
    "    \"edad\":23, \n",
    "    \"es_adulto\":True}\n",
    "\n",
    "print(diccionario_values)"
   ]
  },
  {
   "cell_type": "markdown",
   "id": "c1f44d60",
   "metadata": {},
   "source": [
    "La ventaja que tienen los diccionarios es que podemos acceder directamente a los valores que tiene almacenados utilizando su key value, pero tambien podemos iterar sobre el diccionario en un ciclo para poder sacar sus keys"
   ]
  },
  {
   "cell_type": "code",
   "execution_count": 8,
   "id": "248eda6f",
   "metadata": {},
   "outputs": [
    {
     "name": "stdout",
     "output_type": "stream",
     "text": [
      "El nombre almacenado en este diccionario es: Juan\n",
      "Las key dentro de este diccionario son: \n",
      "- nombre\n",
      "- edad\n",
      "- es_adulto\n"
     ]
    }
   ],
   "source": [
    "print(\"El nombre almacenado en este diccionario es: \" + diccionario_values.get(\"nombre\"))\n",
    "\n",
    "print(\"Las key dentro de este diccionario son: \")\n",
    "for value in diccionario_values:\n",
    "    print(\"- \" + value)"
   ]
  },
  {
   "cell_type": "markdown",
   "id": "81c8db70",
   "metadata": {},
   "source": [
    "# Declaracion y uso de funciones"
   ]
  },
  {
   "cell_type": "markdown",
   "id": "37e705d2",
   "metadata": {},
   "source": [
    "Hay veces en las que queremos volver a utilizar ciertos bloques de codigo, para esto nosotros tenemos algo llamado funciones, las cuales cumplen especificamente esa funcion\n",
    "La forma de declararlas y utilizarlas, es la siguiente:"
   ]
  },
  {
   "cell_type": "code",
   "execution_count": 10,
   "id": "0bac2c7f",
   "metadata": {},
   "outputs": [],
   "source": [
    "# Primero crearemos una funcion llamada funcion_saludo, la cual no recibe ningun parametro\n",
    "def funcion_saludo():\n",
    "    print(\"Hola, te estoy saludando\")"
   ]
  },
  {
   "cell_type": "code",
   "execution_count": 11,
   "id": "0c316aca",
   "metadata": {},
   "outputs": [
    {
     "name": "stdout",
     "output_type": "stream",
     "text": [
      "Hola, te estoy saludando\n"
     ]
    }
   ],
   "source": [
    "# Una vez creada esta funcion, nosotros podremos mostrar el bloque de codigo que creamos dentro de la funcion, solo mandandola a llamar\n",
    "funcion_saludo()"
   ]
  },
  {
   "cell_type": "markdown",
   "id": "889753aa",
   "metadata": {},
   "source": [
    "Si buscaramos que estas funciones nos devolvieran un valor especifico, entregandole ciertos parametros, podemos darselos dentro de su parentesis y utilizar un return para poder devolver el valor esperado"
   ]
  },
  {
   "cell_type": "code",
   "execution_count": 13,
   "id": "4f5c1043",
   "metadata": {},
   "outputs": [
    {
     "name": "stdout",
     "output_type": "stream",
     "text": [
      "30\n"
     ]
    }
   ],
   "source": [
    "# Primero declaramos 2 variables con los valores que queremos usar en nuestra funcion\n",
    "val1, val2 = 10, 20\n",
    "\n",
    "# Ahora crearemos la funcion esperando los parametros que usaremos\n",
    "def funcion_suma(val1, val2):\n",
    "    return val1 + val2\n",
    "\n",
    "# Finalmente mandamos a llamar la funcion, entregandole los parametros deseados\n",
    "print(funcion_suma(val1, val2))"
   ]
  },
  {
   "cell_type": "markdown",
   "id": "b20a0cab",
   "metadata": {},
   "source": [
    "Si buscaramos que nuestra funcion obtenga mas de un parametro, nosotros usaremos lo especificaremos en nuestra declaracion de funcion"
   ]
  },
  {
   "cell_type": "code",
   "execution_count": 15,
   "id": "43cb07a6",
   "metadata": {},
   "outputs": [
    {
     "data": {
      "text/plain": [
       "(1, 2, 3, 4, 5)"
      ]
     },
     "execution_count": 15,
     "metadata": {},
     "output_type": "execute_result"
    }
   ],
   "source": [
    "# Al especificar los parametros a recibir, usamos el asterisco y el nombre con el que identificaremos a los parametros\n",
    "def funcion_suma_multivalor(*args):\n",
    "    return args\n",
    "\n",
    "# Al llamar la funcion, podemos entregarle los parametros que sean\n",
    "funcion_suma_multivalor(1, 2, 3, 4, 5)"
   ]
  }
 ],
 "metadata": {
  "interpreter": {
   "hash": "7f8b8ff422d2ecc6ce58078be4c9d3ca712ae43126dd3eecc3379410a87d5d27"
  },
  "kernelspec": {
   "display_name": "Python 3 (ipykernel)",
   "language": "python",
   "name": "python3"
  },
  "language_info": {
   "codemirror_mode": {
    "name": "ipython",
    "version": 3
   },
   "file_extension": ".py",
   "mimetype": "text/x-python",
   "name": "python",
   "nbconvert_exporter": "python",
   "pygments_lexer": "ipython3",
   "version": "3.10.4"
  }
 },
 "nbformat": 4,
 "nbformat_minor": 5
}
