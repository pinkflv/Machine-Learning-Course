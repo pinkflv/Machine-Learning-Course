{
 "cells": [
  {
   "cell_type": "markdown",
   "id": "56a4bb13",
   "metadata": {},
   "source": [
    "# Ejercicios"
   ]
  },
  {
   "cell_type": "markdown",
   "id": "8f9f6188",
   "metadata": {},
   "source": [
    "Crea una función que determine si un numero es primo."
   ]
  },
  {
   "cell_type": "code",
   "execution_count": 4,
   "id": "ddf70da3",
   "metadata": {},
   "outputs": [],
   "source": [
    "def funcion_primo(numero):\n",
    "    for i in range(2, numero):\n",
    "        if numero % i == 0:\n",
    "            return \"No es primo\"\n",
    "    return \"Es primo\""
   ]
  },
  {
   "cell_type": "code",
   "execution_count": 5,
   "id": "d13f3928",
   "metadata": {},
   "outputs": [
    {
     "data": {
      "text/plain": [
       "'No es primo'"
      ]
     },
     "execution_count": 5,
     "metadata": {},
     "output_type": "execute_result"
    }
   ],
   "source": [
    "funcion_primo(10)"
   ]
  },
  {
   "cell_type": "code",
   "execution_count": 6,
   "id": "25750bd9",
   "metadata": {},
   "outputs": [
    {
     "data": {
      "text/plain": [
       "'Es primo'"
      ]
     },
     "execution_count": 6,
     "metadata": {},
     "output_type": "execute_result"
    }
   ],
   "source": [
    "funcion_primo(11)"
   ]
  },
  {
   "cell_type": "markdown",
   "id": "b3be125d",
   "metadata": {},
   "source": [
    "Crea una función que retorne el factorial de un numero."
   ]
  },
  {
   "cell_type": "code",
   "execution_count": 2,
   "id": "dd1ae5f0",
   "metadata": {},
   "outputs": [],
   "source": [
    "numero_ejemplo = 10\n",
    "def funcion_factorial(numero_ejemplo):\n",
    "    sumatoria = 1\n",
    "    for i in range(1, numero_ejemplo+1):\n",
    "        sumatoria = i* sumatoria\n",
    "        print(sumatoria)\n"
   ]
  },
  {
   "cell_type": "code",
   "execution_count": 3,
   "id": "42bf819a",
   "metadata": {},
   "outputs": [
    {
     "name": "stdout",
     "output_type": "stream",
     "text": [
      "1\n",
      "2\n",
      "6\n",
      "24\n",
      "120\n",
      "720\n",
      "5040\n",
      "40320\n",
      "362880\n",
      "3628800\n"
     ]
    }
   ],
   "source": [
    "funcion_factorial(numero_ejemplo)"
   ]
  },
  {
   "cell_type": "markdown",
   "id": "8a2b39a6",
   "metadata": {},
   "source": [
    "Crea una función que indique si un texto dado es palindromo.\n"
   ]
  },
  {
   "cell_type": "code",
   "execution_count": 40,
   "id": "3d5aece1",
   "metadata": {},
   "outputs": [],
   "source": [
    "def funcion_palindromo(palabra):\n",
    "    palabra_alreves = []\n",
    "    palabra_normal = []\n",
    "    bandera = 1\n",
    "    palabra = palabra.replace(\" \",\"\")\n",
    "    for letra in palabra:\n",
    "        palabra_normal.append(letra)\n",
    "        palabra_alreves.insert(0,letra)\n",
    "    for letra in range(len(palabra)):\n",
    "        if palabra_alreves[letra] != palabra_normal[letra]:\n",
    "            bandera = 0\n",
    "            break\n",
    "    if bandera == 0:\n",
    "        print(\"No fue palindromo\")\n",
    "    else:\n",
    "        print(\"Es un palindromo\")"
   ]
  },
  {
   "cell_type": "code",
   "execution_count": 44,
   "id": "f31367a8",
   "metadata": {},
   "outputs": [
    {
     "name": "stdout",
     "output_type": "stream",
     "text": [
      "No fue palindromo\n"
     ]
    }
   ],
   "source": [
    "palabra = \"anita lava la tin\"\n",
    "funcion_palindromo(palabra)"
   ]
  },
  {
   "cell_type": "code",
   "execution_count": 45,
   "id": "91ccacc5",
   "metadata": {},
   "outputs": [
    {
     "name": "stdout",
     "output_type": "stream",
     "text": [
      "Es un palindromo\n"
     ]
    }
   ],
   "source": [
    "palabra = \"anita lava la tina\"\n",
    "funcion_palindromo(palabra)"
   ]
  },
  {
   "cell_type": "markdown",
   "id": "f2854ea8",
   "metadata": {},
   "source": [
    "Crea una función que imprima la tabla de multiplicar de un numero y retorne los valores en un arreglo.\n"
   ]
  },
  {
   "cell_type": "markdown",
   "id": "df450c5e",
   "metadata": {},
   "source": [
    "Crea una función que reciba un texto e indique cuantas letras tiene (sin usar el método len).\n"
   ]
  },
  {
   "cell_type": "markdown",
   "id": "5396efda",
   "metadata": {},
   "source": [
    "Crea una función que retorne una colección con las palabras de un texto.\n"
   ]
  },
  {
   "cell_type": "markdown",
   "id": "9cf1aa22",
   "metadata": {},
   "source": [
    "Crea una función que reciba una colección de nombres y que retorne una colección de esos mismos nombres sin que se repitan y sin importar el orden en el que estaban.\n"
   ]
  }
 ],
 "metadata": {
  "interpreter": {
   "hash": "7f8b8ff422d2ecc6ce58078be4c9d3ca712ae43126dd3eecc3379410a87d5d27"
  },
  "kernelspec": {
   "display_name": "Python 3 (ipykernel)",
   "language": "python",
   "name": "python3"
  },
  "language_info": {
   "codemirror_mode": {
    "name": "ipython",
    "version": 3
   },
   "file_extension": ".py",
   "mimetype": "text/x-python",
   "name": "python",
   "nbconvert_exporter": "python",
   "pygments_lexer": "ipython3",
   "version": "3.10.4"
  }
 },
 "nbformat": 4,
 "nbformat_minor": 5
}
