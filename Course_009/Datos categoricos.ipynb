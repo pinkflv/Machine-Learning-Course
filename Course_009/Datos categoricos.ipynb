{
 "cells": [
  {
   "cell_type": "markdown",
   "id": "8fac81eb",
   "metadata": {},
   "source": [
    "# Actividad 5 - Datos categoricos\n"
   ]
  },
  {
   "cell_type": "markdown",
   "id": "bba11ad1",
   "metadata": {},
   "source": [
    "Deberás investigar a detalle el que son los datos categóricos, como están constituidos, por que es que no podemos emplear los datos categóricos en crudo dentro de los modelos de Machine Learning.\n",
    "\n",
    "Investiga 2 métodos para convertir los datos categóricos (unicamente el como se podrían ajustar, no es necesario investigar una función o programa)."
   ]
  },
  {
   "cell_type": "markdown",
   "id": "5747ddae",
   "metadata": {},
   "source": [
    "Los datos categoricos, en términos matemáticos y científicos, son un grupo de información recopilada. Esta información puede ser cualquier cosa y puede usarse para probar o refutar una hipótesis (o suposición científica) durante un experimento. Los datos que se pueden recopilar pueden ser la altura, el peso, la opinión de una persona sobre un tema político, la cantidad de personas que se resfrían durante un año y mucho más. Los datos se suelen agrupar en dos tipos diferentes de información: categórica y numérica."
   ]
  },
  {
   "cell_type": "markdown",
   "id": "4b0109c8",
   "metadata": {},
   "source": [
    "# ¿Qué son?"
   ]
  },
  {
   "cell_type": "markdown",
   "id": "c667b4dc",
   "metadata": {},
   "source": [
    "Todos los datos recopilados se recopilan en forma de números, pero a menudo no sabemos qué significan esos números. Los datos categóricos le dan un significado a esos números. Si te dijera los números 4, 10 y 12, no sabrías qué hacer con ellos o qué significan. Sin embargo, si dijera que hay 4 rubias en una clase, 10 pelirrojas y 12 morenas, comprendería mejor lo que significan esos números. Esto, por que se agruparon esos números en categorías."
   ]
  },
  {
   "cell_type": "markdown",
   "id": "9c71fa6a",
   "metadata": {},
   "source": [
    "Los datos categóricos, como su nombre lo indica, se agrupan en algún tipo de categoría o en varias categorías. Por ejemplo, si tuviera que recopilar información sobre las preferencias de mascota de una persona, tendría que agrupar esa información por tipo de mascota. Los datos categóricos también son datos que se recopilan de una manera o sí o no. Por ejemplo, si le pidieramos a las personas de una oficina que marquen ‘sí’ o ‘no’ si han tenido hijos, entonces se podria mostrar esa información en un gráfico de barras o un gráfico circular comparando compañeros de trabajo que tuvieron hijos con compañeros de trabajo que no tienen hijos."
   ]
  },
  {
   "cell_type": "markdown",
   "id": "47112941",
   "metadata": {},
   "source": [
    "# Convertir datos categoricos en numericos"
   ]
  },
  {
   "cell_type": "markdown",
   "id": "70c5b732",
   "metadata": {},
   "source": [
    "1. Codificación de números enteros\n",
    "En este primer paso, asignará el valor entero para cada valor de categoría. Por ejemplo, el azul es 1, el verde es 2 y el amarillo es 3. Puede invertir fácilmente este tipo de codificación. También puede referirse a la codificación de enteros como codificación de etiquetas. Para muchas variables, este paso es suficiente para procesar el modelo. Existe una relación natural ordenada entre los diferentes valores enteros. Se puede conectar la relación a través de un algoritmo de aprendizaje automático. Por ejemplo, si considera las variables ordinales como el lugar, las categorías ya están ordenadas. Por lo tanto, no es necesario encontrar la relación entre las variables. Así, la codificación de etiquetas sería suficiente.\n",
    "\n",
    "2. Codificación unidireccional\n",
    "Las variables categóricas no incluyen ninguna relación entre las variables como las variables ordinales. Por lo tanto, es necesario llevar el proceso de codificación a otro nivel. Para este tipo de datos, la codificación de números enteros no es suficiente. Incluso si se codifican los datos sin un orden natural, las categorías no se alinearán. Debido al bajo rendimiento, el resultado será inesperado.\n",
    "En consecuencia, la codificación de un solo paso es una técnica que se aplica a la representación de números enteros. Durante la codificación de los datos, el modelo eliminará las variables enteras. Luego, incluirá una nueva variable binaria para cada valor entero único. Por ejemplo, si consideramos la variable de color, necesitará codificar 3 categorías. Para ello, colocará el valor “1” para la variable binaria de color y “0” para la otra."
   ]
  },
  {
   "cell_type": "markdown",
   "id": "0aaf3e61",
   "metadata": {},
   "source": [
    "# Conclusion"
   ]
  },
  {
   "cell_type": "markdown",
   "id": "f9759c83",
   "metadata": {},
   "source": [
    "En resumen, la codificación categórica es una técnica que convierte los datos categóricos en binarios. Como el modelo de aprendizaje automático no puede procesar datos categóricos, debe convertirlos en numéricos o binarios, según el algoritmo. Hay dos pasos para convertir los datos categóricos o de etiquetas en datos binarios. La codificación de etiquetas es la primera técnica de codificación categórica. Transforma los datos en forma numérica. Utilice la codificación de etiquetas para los datos ordinales. Para los datos no ordinales, utilice la técnica de codificación de una sola vez. Es un método eficaz para convertir los datos en forma binaria."
   ]
  }
 ],
 "metadata": {
  "interpreter": {
   "hash": "7f8b8ff422d2ecc6ce58078be4c9d3ca712ae43126dd3eecc3379410a87d5d27"
  },
  "kernelspec": {
   "display_name": "Python 3 (ipykernel)",
   "language": "python",
   "name": "python3"
  },
  "language_info": {
   "codemirror_mode": {
    "name": "ipython",
    "version": 3
   },
   "file_extension": ".py",
   "mimetype": "text/x-python",
   "name": "python",
   "nbconvert_exporter": "python",
   "pygments_lexer": "ipython3",
   "version": "3.10.4"
  }
 },
 "nbformat": 4,
 "nbformat_minor": 5
}
