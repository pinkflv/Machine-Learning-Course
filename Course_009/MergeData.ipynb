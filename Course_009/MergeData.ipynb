{
 "cells": [
  {
   "cell_type": "markdown",
   "id": "8fac81eb",
   "metadata": {},
   "source": [
    "# Merge de los datos\n"
   ]
  },
  {
   "cell_type": "code",
   "execution_count": 1,
   "id": "49113177",
   "metadata": {},
   "outputs": [],
   "source": [
    "# importamos nuestras librerias\n",
    "import pandas as pd\n",
    "import numpy as np\n",
    "import matplotlib.pyplot as plt\n",
    "import seaborn as sbn"
   ]
  },
  {
   "cell_type": "code",
   "execution_count": 5,
   "id": "55e90c7b",
   "metadata": {},
   "outputs": [
    {
     "name": "stdout",
     "output_type": "stream",
     "text": [
      "   Student_id  Mark     City\n",
      "0           1    95  Chennai\n",
      "1           2    70    Delhi\n",
      "2           3    98   Mumbai\n",
      "3           4    75     Pune\n",
      "4           5    89    Kochi\n",
      "5           6    69  Gwalior\n",
      "6           7    52   Bhopal\n",
      "7           8    54  Chennai\n",
      "8           9    55    Delhi\n",
      "9          10    94   Mumbai\n",
      "   Student_id  Age  Gender      Grade Employed\n",
      "0           1   19    Male  1st Class      yes\n",
      "1           2   20  Female  2nd Class       no\n",
      "2           3   18    Male  1st Class       no\n",
      "3           4   21  Female  2nd Class       no\n",
      "4           5   19    Male  1st Class       no\n",
      "5           6   20    Male  2nd Class      yes\n",
      "6           7   19  Female  3rd Class      yes\n",
      "7           8   21    Male  3rd Class      yes\n",
      "8           9   22  Female  3rd Class      yes\n",
      "9          10   21    Male  1st Class       no\n"
     ]
    }
   ],
   "source": [
    "# llamamos nuestro csvm puede ser desde un servicio o desde un link como el siguiente\n",
    "df1 = pd.read_csv(\"http://virtualfif.uaq.mx/diplomado/data/mark.csv\")\n",
    "df2 = pd.read_csv(\"http://virtualfif.uaq.mx/diplomado/data/student.csv\")\n",
    "print(df1.head(10))\n",
    "print(df2.head(10))"
   ]
  },
  {
   "cell_type": "code",
   "execution_count": 6,
   "id": "b3982a1c",
   "metadata": {},
   "outputs": [],
   "source": [
    "df = pd.merge(df1,df2, on = 'Student_id')"
   ]
  },
  {
   "cell_type": "code",
   "execution_count": 7,
   "id": "44b81b31",
   "metadata": {},
   "outputs": [
    {
     "data": {
      "text/html": [
       "<div>\n",
       "<style scoped>\n",
       "    .dataframe tbody tr th:only-of-type {\n",
       "        vertical-align: middle;\n",
       "    }\n",
       "\n",
       "    .dataframe tbody tr th {\n",
       "        vertical-align: top;\n",
       "    }\n",
       "\n",
       "    .dataframe thead th {\n",
       "        text-align: right;\n",
       "    }\n",
       "</style>\n",
       "<table border=\"1\" class=\"dataframe\">\n",
       "  <thead>\n",
       "    <tr style=\"text-align: right;\">\n",
       "      <th></th>\n",
       "      <th>Student_id</th>\n",
       "      <th>Mark</th>\n",
       "      <th>City</th>\n",
       "      <th>Age</th>\n",
       "      <th>Gender</th>\n",
       "      <th>Grade</th>\n",
       "      <th>Employed</th>\n",
       "    </tr>\n",
       "  </thead>\n",
       "  <tbody>\n",
       "    <tr>\n",
       "      <th>0</th>\n",
       "      <td>1</td>\n",
       "      <td>95</td>\n",
       "      <td>Chennai</td>\n",
       "      <td>19</td>\n",
       "      <td>Male</td>\n",
       "      <td>1st Class</td>\n",
       "      <td>yes</td>\n",
       "    </tr>\n",
       "    <tr>\n",
       "      <th>1</th>\n",
       "      <td>2</td>\n",
       "      <td>70</td>\n",
       "      <td>Delhi</td>\n",
       "      <td>20</td>\n",
       "      <td>Female</td>\n",
       "      <td>2nd Class</td>\n",
       "      <td>no</td>\n",
       "    </tr>\n",
       "    <tr>\n",
       "      <th>2</th>\n",
       "      <td>3</td>\n",
       "      <td>98</td>\n",
       "      <td>Mumbai</td>\n",
       "      <td>18</td>\n",
       "      <td>Male</td>\n",
       "      <td>1st Class</td>\n",
       "      <td>no</td>\n",
       "    </tr>\n",
       "    <tr>\n",
       "      <th>3</th>\n",
       "      <td>4</td>\n",
       "      <td>75</td>\n",
       "      <td>Pune</td>\n",
       "      <td>21</td>\n",
       "      <td>Female</td>\n",
       "      <td>2nd Class</td>\n",
       "      <td>no</td>\n",
       "    </tr>\n",
       "    <tr>\n",
       "      <th>4</th>\n",
       "      <td>5</td>\n",
       "      <td>89</td>\n",
       "      <td>Kochi</td>\n",
       "      <td>19</td>\n",
       "      <td>Male</td>\n",
       "      <td>1st Class</td>\n",
       "      <td>no</td>\n",
       "    </tr>\n",
       "  </tbody>\n",
       "</table>\n",
       "</div>"
      ],
      "text/plain": [
       "   Student_id  Mark     City  Age  Gender      Grade Employed\n",
       "0           1    95  Chennai   19    Male  1st Class      yes\n",
       "1           2    70    Delhi   20  Female  2nd Class       no\n",
       "2           3    98   Mumbai   18    Male  1st Class       no\n",
       "3           4    75     Pune   21  Female  2nd Class       no\n",
       "4           5    89    Kochi   19    Male  1st Class       no"
      ]
     },
     "execution_count": 7,
     "metadata": {},
     "output_type": "execute_result"
    }
   ],
   "source": [
    "df.head()"
   ]
  }
 ],
 "metadata": {
  "interpreter": {
   "hash": "7f8b8ff422d2ecc6ce58078be4c9d3ca712ae43126dd3eecc3379410a87d5d27"
  },
  "kernelspec": {
   "display_name": "Python 3 (ipykernel)",
   "language": "python",
   "name": "python3"
  },
  "language_info": {
   "codemirror_mode": {
    "name": "ipython",
    "version": 3
   },
   "file_extension": ".py",
   "mimetype": "text/x-python",
   "name": "python",
   "nbconvert_exporter": "python",
   "pygments_lexer": "ipython3",
   "version": "3.10.4"
  }
 },
 "nbformat": 4,
 "nbformat_minor": 5
}
