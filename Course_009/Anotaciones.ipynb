{
 "cells": [
  {
   "cell_type": "markdown",
   "id": "8fac81eb",
   "metadata": {},
   "source": [
    "# Machine Learning Course - Day 9\n"
   ]
  },
  {
   "cell_type": "markdown",
   "id": "f2d26a6d",
   "metadata": {},
   "source": [
    "# Outliners"
   ]
  },
  {
   "cell_type": "markdown",
   "id": "c37af38d",
   "metadata": {},
   "source": [
    "Suelen ser datos que se encuentran por fuera de lo establecido, o muy grandes, o muy pequennos para lo esperado."
   ]
  },
  {
   "cell_type": "markdown",
   "id": "51bfa5b8",
   "metadata": {},
   "source": [
    "Los datos atipicos no son malos, con ayuda del cliente y el conocimiento del negocio, podemos elegir si es conveniente dejar los valores o eliminarlos."
   ]
  },
  {
   "cell_type": "markdown",
   "id": "e1a95f9f",
   "metadata": {},
   "source": [
    "Rango intercuatril:\n",
    "\n",
    "    IQR = Q3 - Q1\n",
    "\n",
    "Limite inferior:\n",
    "    \n",
    "    Q1 - IQR\n",
    "\n",
    "Limite superior:\n",
    "    \n",
    "    Q1 + IQR"
   ]
  },
  {
   "cell_type": "markdown",
   "id": "d73bfd6e",
   "metadata": {},
   "source": [
    "# Integracion de datos"
   ]
  },
  {
   "cell_type": "markdown",
   "id": "1f96bc77",
   "metadata": {},
   "source": [
    "hasta el momento no no hemos asegurado de retirar impurezas en nuestros datos y hacer que se encuentren mas limpios. Nuestro siguiente tema/situacion es combinar datos de diferentes fuentes en una estructura con la informacion mas valiosa para nosotros.\n",
    "\n",
    "Es comun que la informacion se encuentre segregada en diferentes fuentes, por ejemplo, que la ingormacion se encuentre dividida en diferentes tablas de una base de datos."
   ]
  },
  {
   "cell_type": "markdown",
   "id": "1204316d",
   "metadata": {},
   "source": [
    "# Transformacion de datos"
   ]
  },
  {
   "cell_type": "markdown",
   "id": "235ab80b",
   "metadata": {},
   "source": [
    "En la subseccion pasada trabajamos con el combinar datos de diferentes fuentes. Ahora tenemos diversas columnas con una gran variedad de tipos de datos.\n"
   ]
  },
  {
   "cell_type": "markdown",
   "id": "69f05e09",
   "metadata": {},
   "source": [
    "Partiendo de una amplia perspectiva, los datos seran clasificados en 2 tipos:\n",
    "    \n",
    "    - Numericos: Como su nombre nos sugiere, son los datos numericos, es decir que son cuantificables.\n",
    "    - Categoricos: los datos que son texto(String) i que simplemente son datos numericos que son de naturaleza cualitativa."
   ]
  },
  {
   "cell_type": "markdown",
   "id": "6bdd5389",
   "metadata": {},
   "source": [
    "Los datos numericos se encuentran divididos de la siguiente forma:\n",
    "\n",
    "    - Discretos: En terminos simples, cualquier dato numerico que es contable es llamado dato discreto\n",
    "    - Continuo: Cualquier dato numerico que es medible, por ejemplo, el peso de una persona, el tiempo en llegar a X destino."
   ]
  }
 ],
 "metadata": {
  "interpreter": {
   "hash": "7f8b8ff422d2ecc6ce58078be4c9d3ca712ae43126dd3eecc3379410a87d5d27"
  },
  "kernelspec": {
   "display_name": "Python 3 (ipykernel)",
   "language": "python",
   "name": "python3"
  },
  "language_info": {
   "codemirror_mode": {
    "name": "ipython",
    "version": 3
   },
   "file_extension": ".py",
   "mimetype": "text/x-python",
   "name": "python",
   "nbconvert_exporter": "python",
   "pygments_lexer": "ipython3",
   "version": "3.10.4"
  }
 },
 "nbformat": 4,
 "nbformat_minor": 5
}
