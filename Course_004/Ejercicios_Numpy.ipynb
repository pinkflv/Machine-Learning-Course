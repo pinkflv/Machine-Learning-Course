{
  "cells": [
    {
      "cell_type": "markdown",
      "metadata": {
        "id": "FSct6HmD9721"
      },
      "source": [
        "# Ejercicios Numpy\n",
        "**Nombre:** tu nombre\n",
        "\n",
        "**Expediente:** tu expediente"
      ]
    },
    {
      "cell_type": "markdown",
      "metadata": {
        "id": "ri2xF9sj-QDQ"
      },
      "source": [
        "Realiza los ejecicios que se indican en este notebook para practicar tu uso de numpy"
      ]
    },
    {
      "cell_type": "markdown",
      "metadata": {
        "id": "W0cItnrG-emA"
      },
      "source": [
        "**Ejercicios**\n",
        "\n",
        "1.   Crea un arreglo con los siguientes valores: `10, 15, 20, 25, 30, 35, 40`\n",
        "\n",
        "\n",
        "\n",
        "\n",
        "\n",
        "\n",
        "\n",
        "\n"
      ]
    },
    {
      "cell_type": "code",
      "execution_count": null,
      "metadata": {
        "id": "BjVzx8Mm-AOp"
      },
      "outputs": [],
      "source": []
    },
    {
      "cell_type": "markdown",
      "metadata": {
        "id": "L5-rHNl---RY"
      },
      "source": [
        "2.   Crea un arreglo que contenga los valores: `1,4,9,6,3` en una 3da dimension\n",
        "\n",
        "\n",
        "\n"
      ]
    },
    {
      "cell_type": "code",
      "execution_count": null,
      "metadata": {
        "id": "xnOWPzIiSmh3"
      },
      "outputs": [],
      "source": []
    },
    {
      "cell_type": "markdown",
      "metadata": {
        "id": "G5Abpk79Sni5"
      },
      "source": [
        "\n",
        "\n",
        "3.   Verifica por medio de codigo que el arreglo escrito en el ejercicio anterior corresponda a una 3ra dimension.\n",
        "\n"
      ]
    },
    {
      "cell_type": "code",
      "execution_count": null,
      "metadata": {
        "id": "pn52_FpjT6U2"
      },
      "outputs": [],
      "source": []
    },
    {
      "cell_type": "markdown",
      "metadata": {
        "id": "0LcVUduGT8vn"
      },
      "source": [
        "4.   Accede e imprime el 5to elemento del siguiente arreglo  \n",
        "```\n",
        "arreglo = np.array([1,6,9,3,4,6,8,5,10,23,5,4])\n",
        "```\n",
        "(Deberas crear el arreglo y ejecutarlo)\n",
        "\n"
      ]
    },
    {
      "cell_type": "code",
      "execution_count": null,
      "metadata": {
        "id": "QoB_uklAUdsG"
      },
      "outputs": [],
      "source": []
    },
    {
      "cell_type": "markdown",
      "metadata": {
        "id": "DasiHWeSUke5"
      },
      "source": [
        "5.   Como puedes imprimir el numero 23 del arreglo\n",
        "```\n",
        "arreglo = np.array([1,6,9,3,4,6,8,5,10,23,5,4])\n",
        "```\n",
        "\n",
        "\n"
      ]
    },
    {
      "cell_type": "code",
      "execution_count": null,
      "metadata": {
        "id": "H5e3HL6-VJJH"
      },
      "outputs": [],
      "source": []
    },
    {
      "cell_type": "markdown",
      "metadata": {
        "id": "wdyETR6AVJxR"
      },
      "source": [
        "6.   Como puedes imprimir el numero 23 del arreglo\n",
        "```\n",
        "arreglo = np.array([[1,6,9,3,4,6],[8,5,10,23,5,4]])\n",
        "```\n",
        "(Deberas crear el arreglo y ejecutarlo)\n"
      ]
    },
    {
      "cell_type": "code",
      "execution_count": null,
      "metadata": {
        "id": "CGnJm0TMV1pW"
      },
      "outputs": [],
      "source": []
    },
    {
      "cell_type": "markdown",
      "metadata": {
        "id": "QbdWdr6QWDUw"
      },
      "source": [
        "7.   Como puedes imprimir el ultimo elemento del arreglo\n",
        "```\n",
        "arreglo = np.array([1,6,9,3,4,6,8,5,10,23,5,4])\n",
        "```"
      ]
    },
    {
      "cell_type": "code",
      "execution_count": null,
      "metadata": {
        "id": "fTv11eVeWOim"
      },
      "outputs": [],
      "source": []
    },
    {
      "cell_type": "markdown",
      "metadata": {
        "id": "gi-imrZ9WuB_"
      },
      "source": [
        "8.   Genera un nuevo arreglo a partir del que se muestra, en el que incluyas los elementos de la posicion 3 (incluyendolo, hasta la posicion 9 (sin incluirla)\n",
        "```\n",
        "arreglo = np.array([1,6,9,3,4,6,8,5,10,23,5,4])\n",
        "```"
      ]
    },
    {
      "cell_type": "code",
      "execution_count": null,
      "metadata": {
        "id": "BGh3BOrQXgjm"
      },
      "outputs": [],
      "source": []
    },
    {
      "cell_type": "markdown",
      "metadata": {
        "id": "b6YozgulYw4D"
      },
      "source": [
        "9. Genera un nuevo arreglo a partir del siguiente, con cada 2do elemento del arreglo\n",
        "```\n",
        "arreglo = np.array([1,6,9,3,4,6,8,5,10,23,5,4])\n",
        "```"
      ]
    },
    {
      "cell_type": "code",
      "execution_count": null,
      "metadata": {
        "id": "cEsaiVpSaM-H"
      },
      "outputs": [],
      "source": []
    },
    {
      "cell_type": "markdown",
      "metadata": {
        "id": "_7lZzbv2bFyC"
      },
      "source": [
        "10. Muestra el tipo de los datos contenidos en el siguiente arreglo:\n",
        "\n",
        "\n",
        "```\n",
        "arreglo = np.array([6,2,3,9,4])\n",
        "```\n",
        "\n"
      ]
    },
    {
      "cell_type": "code",
      "execution_count": null,
      "metadata": {
        "id": "QmyW87Rnbf7X"
      },
      "outputs": [],
      "source": []
    },
    {
      "cell_type": "markdown",
      "metadata": {
        "id": "jo4D0L7nbgha"
      },
      "source": [
        "11. Especifica desde la declaracion del arreglo que el tipo de dato para que sea String\n",
        "```\n",
        "arreglo = np.array([6,2,3,9,4])\n",
        "```"
      ]
    },
    {
      "cell_type": "code",
      "execution_count": null,
      "metadata": {
        "id": "Sif5AIsFeIlp"
      },
      "outputs": [],
      "source": []
    },
    {
      "cell_type": "markdown",
      "metadata": {
        "id": "tMgi98B6eJiJ"
      },
      "source": [
        "12. Declara el siguiente arreglo y posteriormente indica que sea de tipo `integer`\n",
        "\n",
        "```\n",
        "arreglo = np.array([6.3,2.5,3.0,9.1,4.9])\n",
        "```"
      ]
    },
    {
      "cell_type": "code",
      "execution_count": null,
      "metadata": {
        "id": "DsaxYQTxed6X"
      },
      "outputs": [],
      "source": []
    },
    {
      "cell_type": "markdown",
      "metadata": {
        "id": "NWHHFvHeeff5"
      },
      "source": [
        "12. Redacta la diferencia entre copiar un arrego con el comando copy() y el comando view()\n",
        "¿Que ventaja crees que tiene view()?"
      ]
    },
    {
      "cell_type": "markdown",
      "metadata": {
        "id": "YNvYaBeZgEu3"
      },
      "source": []
    },
    {
      "cell_type": "markdown",
      "metadata": {
        "id": "OORCjevUgG5P"
      },
      "source": [
        "13. Indica cuantos elementos tiene el siguiente arreglo:\n",
        "\n",
        "```\n",
        "arreglo = np.array([1,6,9,3,4,6,8,5,10,23,5,4])\n",
        "```"
      ]
    },
    {
      "cell_type": "code",
      "execution_count": null,
      "metadata": {
        "id": "aeWshCZ_gD81"
      },
      "outputs": [],
      "source": []
    },
    {
      "cell_type": "markdown",
      "metadata": {
        "id": "R_S_CuP8iGzs"
      },
      "source": [
        "14. Indica cuantos elementos tiene el siguiente arreglo:\n",
        "```\n",
        "arreglo = np.array([[1,6,9,3,4,6],[8,5,10,23,5,4]])\n",
        "```"
      ]
    },
    {
      "cell_type": "code",
      "execution_count": null,
      "metadata": {
        "id": "2xZuYHqbiQSG"
      },
      "outputs": [],
      "source": []
    },
    {
      "cell_type": "markdown",
      "metadata": {
        "id": "wWveH7o_ichP"
      },
      "source": [
        "14. Redimensiona el siguiente arreglo de 1-D a 2-D con 3 subarreglos y que contengan 4 elementos en cada segmento:\n",
        "\n",
        "```\n",
        "arreglo = np.array([1,6,9,3,4,6,8,5,10,23,5,4])\n",
        "```"
      ]
    },
    {
      "cell_type": "code",
      "execution_count": null,
      "metadata": {
        "id": "dUvS5B5hjbb1"
      },
      "outputs": [],
      "source": []
    },
    {
      "cell_type": "markdown",
      "metadata": {
        "id": "JV6s9fsRkNCO"
      },
      "source": [
        "15. Redimensiona el siguiente arreglo de 2-D a 1-D:\n",
        "\n",
        "```\n",
        "arreglo = np.array([[1,6,9,3,4,6],[8,5,10,23,5,4]])\n",
        "```"
      ]
    },
    {
      "cell_type": "code",
      "execution_count": null,
      "metadata": {
        "id": "DBGhXv2ckssr"
      },
      "outputs": [],
      "source": []
    }
  ],
  "metadata": {
    "colab": {
      "name": "[Template] Ejercicios_Numpy.ipynb",
      "provenance": []
    },
    "kernelspec": {
      "display_name": "Python 3",
      "name": "python3"
    },
    "language_info": {
      "name": "python"
    }
  },
  "nbformat": 4,
  "nbformat_minor": 0
}
