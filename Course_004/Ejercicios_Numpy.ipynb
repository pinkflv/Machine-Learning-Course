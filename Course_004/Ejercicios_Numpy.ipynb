{
  "cells": [
    {
      "cell_type": "markdown",
      "metadata": {
        "id": "FSct6HmD9721"
      },
      "source": [
        "# Ejercicios Numpy\n",
        "**Nombre:** tu nombre\n",
        "\n",
        "**Expediente:** tu expediente"
      ]
    },
    {
      "cell_type": "markdown",
      "metadata": {
        "id": "ri2xF9sj-QDQ"
      },
      "source": [
        "Realiza los ejecicios que se indican en este notebook para practicar tu uso de numpy"
      ]
    },
    {
      "cell_type": "markdown",
      "metadata": {
        "id": "W0cItnrG-emA"
      },
      "source": [
        "**Ejercicios**\n",
        "\n",
        "1.   Crea un arreglo con los siguientes valores: `10, 15, 20, 25, 30, 35, 40`\n",
        "\n",
        "\n",
        "\n",
        "\n",
        "\n",
        "\n",
        "\n",
        "\n"
      ]
    },
    {
      "cell_type": "code",
      "execution_count": 3,
      "metadata": {
        "id": "BjVzx8Mm-AOp"
      },
      "outputs": [
        {
          "name": "stdout",
          "output_type": "stream",
          "text": [
            "[10 15 20 25 30 35 40]\n"
          ]
        }
      ],
      "source": [
        "import numpy as np\n",
        "\n",
        "primer_arreglo = np.array([10,15,20,25,30,35,40])\n",
        "print(primer_arreglo)"
      ]
    },
    {
      "cell_type": "markdown",
      "metadata": {
        "id": "L5-rHNl---RY"
      },
      "source": [
        "2.   Crea un arreglo que contenga los valores: `1,4,9,6,3` en una 3da dimension\n",
        "\n",
        "\n",
        "\n"
      ]
    },
    {
      "cell_type": "code",
      "execution_count": 4,
      "metadata": {
        "id": "xnOWPzIiSmh3"
      },
      "outputs": [
        {
          "name": "stdout",
          "output_type": "stream",
          "text": [
            "[[[1 4 9 6 3]]]\n"
          ]
        }
      ],
      "source": [
        "segundo_arreglo = np.array([[[1,4,9,6,3]]])\n",
        "print(segundo_arreglo)"
      ]
    },
    {
      "cell_type": "markdown",
      "metadata": {
        "id": "G5Abpk79Sni5"
      },
      "source": [
        "\n",
        "\n",
        "3.   Verifica por medio de codigo que el arreglo escrito en el ejercicio anterior corresponda a una 3ra dimension.\n",
        "\n"
      ]
    },
    {
      "cell_type": "code",
      "execution_count": 6,
      "metadata": {
        "id": "pn52_FpjT6U2"
      },
      "outputs": [
        {
          "name": "stdout",
          "output_type": "stream",
          "text": [
            "3\n"
          ]
        }
      ],
      "source": [
        "print(segundo_arreglo.ndim)"
      ]
    },
    {
      "cell_type": "markdown",
      "metadata": {
        "id": "0LcVUduGT8vn"
      },
      "source": [
        "4.   Accede e imprime el 5to elemento del siguiente arreglo  \n",
        "```\n",
        "arreglo = np.array([1,6,9,3,4,6,8,5,10,23,5,4])\n",
        "```\n",
        "(Deberas crear el arreglo y ejecutarlo)\n",
        "\n"
      ]
    },
    {
      "cell_type": "code",
      "execution_count": 9,
      "metadata": {
        "id": "QoB_uklAUdsG"
      },
      "outputs": [
        {
          "name": "stdout",
          "output_type": "stream",
          "text": [
            "4\n"
          ]
        }
      ],
      "source": [
        "arreglo = np.array([1,6,9,3,4,6,8,5,10,23,5,4])\n",
        "print(arreglo[4])"
      ]
    },
    {
      "cell_type": "markdown",
      "metadata": {
        "id": "DasiHWeSUke5"
      },
      "source": [
        "5.   Como puedes imprimir el numero 23 del arreglo\n",
        "```\n",
        "arreglo = np.array([1,6,9,3,4,6,8,5,10,23,5,4])\n",
        "```\n",
        "\n",
        "\n"
      ]
    },
    {
      "cell_type": "code",
      "execution_count": 10,
      "metadata": {
        "id": "H5e3HL6-VJJH"
      },
      "outputs": [
        {
          "name": "stdout",
          "output_type": "stream",
          "text": [
            "23\n"
          ]
        }
      ],
      "source": [
        "print(arreglo[-3])"
      ]
    },
    {
      "cell_type": "markdown",
      "metadata": {
        "id": "wdyETR6AVJxR"
      },
      "source": [
        "6.   Como puedes imprimir el numero 23 del arreglo\n",
        "```\n",
        "arreglo = np.array([[1,6,9,3,4,6],[8,5,10,23,5,4]])\n",
        "```\n",
        "(Deberas crear el arreglo y ejecutarlo)\n"
      ]
    },
    {
      "cell_type": "code",
      "execution_count": 11,
      "metadata": {
        "id": "CGnJm0TMV1pW"
      },
      "outputs": [
        {
          "name": "stdout",
          "output_type": "stream",
          "text": [
            "23\n"
          ]
        }
      ],
      "source": [
        "arreglo = np.array([[1,6,9,3,4,6],[8,5,10,23,5,4]])\n",
        "print(arreglo[1][-3])"
      ]
    },
    {
      "cell_type": "markdown",
      "metadata": {
        "id": "QbdWdr6QWDUw"
      },
      "source": [
        "7.   Como puedes imprimir el ultimo elemento del arreglo\n",
        "```\n",
        "arreglo = np.array([1,6,9,3,4,6,8,5,10,23,5,4])\n",
        "```"
      ]
    },
    {
      "cell_type": "code",
      "execution_count": 12,
      "metadata": {
        "id": "fTv11eVeWOim"
      },
      "outputs": [
        {
          "name": "stdout",
          "output_type": "stream",
          "text": [
            "4\n"
          ]
        }
      ],
      "source": [
        "arreglo = np.array([1,6,9,3,4,6,8,5,10,23,5,4])\n",
        "print(arreglo[-1])"
      ]
    },
    {
      "cell_type": "markdown",
      "metadata": {
        "id": "gi-imrZ9WuB_"
      },
      "source": [
        "8.   Genera un nuevo arreglo a partir del que se muestra, en el que incluyas los elementos de la posicion 3 (incluyendolo, hasta la posicion 9 (sin incluirla)\n",
        "```\n",
        "arreglo = np.array([1,6,9,3,4,6,8,5,10,23,5,4])\n",
        "```"
      ]
    },
    {
      "cell_type": "code",
      "execution_count": 16,
      "metadata": {
        "id": "BGh3BOrQXgjm"
      },
      "outputs": [
        {
          "name": "stdout",
          "output_type": "stream",
          "text": [
            "[9 3 4 6 8 5]\n"
          ]
        }
      ],
      "source": [
        "arreglo = np.array([1,6,9,3,4,6,8,5,10,23,5,4])\n",
        "print(arreglo[3-1:9-1])"
      ]
    },
    {
      "cell_type": "markdown",
      "metadata": {
        "id": "b6YozgulYw4D"
      },
      "source": [
        "9. Genera un nuevo arreglo a partir del siguiente, con cada 2do elemento del arreglo\n",
        "```\n",
        "arreglo = np.array([1,6,9,3,4,6,8,5,10,23,5,4])\n",
        "```"
      ]
    },
    {
      "cell_type": "code",
      "execution_count": 18,
      "metadata": {
        "id": "cEsaiVpSaM-H"
      },
      "outputs": [
        {
          "name": "stdout",
          "output_type": "stream",
          "text": [
            "[ 1  6  9  3  4  6  8  5 10 23  5  4]\n",
            "[ 6  3  6  5 23  4]\n"
          ]
        }
      ],
      "source": [
        "arreglo = np.array([1,6,9,3,4,6,8,5,10,23,5,4])\n",
        "arreglo2 = arreglo[1::2]\n",
        "print(arreglo)\n",
        "print(arreglo2)"
      ]
    },
    {
      "cell_type": "markdown",
      "metadata": {
        "id": "_7lZzbv2bFyC"
      },
      "source": [
        "10. Muestra el tipo de los datos contenidos en el siguiente arreglo:\n",
        "\n",
        "\n",
        "```\n",
        "arreglo = np.array([6,2,3,9,4])\n",
        "```\n",
        "\n"
      ]
    },
    {
      "cell_type": "code",
      "execution_count": 19,
      "metadata": {
        "id": "QmyW87Rnbf7X"
      },
      "outputs": [
        {
          "name": "stdout",
          "output_type": "stream",
          "text": [
            "int32\n"
          ]
        }
      ],
      "source": [
        "arreglo = np.array([6,2,3,9,4])\n",
        "print(arreglo.dtype)"
      ]
    },
    {
      "cell_type": "markdown",
      "metadata": {
        "id": "jo4D0L7nbgha"
      },
      "source": [
        "11. Especifica desde la declaracion del arreglo que el tipo de dato para que sea String\n",
        "```\n",
        "arreglo = np.array([6,2,3,9,4])\n",
        "```"
      ]
    },
    {
      "cell_type": "code",
      "execution_count": 20,
      "metadata": {
        "id": "Sif5AIsFeIlp"
      },
      "outputs": [
        {
          "name": "stdout",
          "output_type": "stream",
          "text": [
            "<U1\n"
          ]
        }
      ],
      "source": [
        "arreglo = np.array([6,2,3,9,4], dtype = str)\n",
        "print(arreglo.dtype)"
      ]
    },
    {
      "cell_type": "markdown",
      "metadata": {
        "id": "tMgi98B6eJiJ"
      },
      "source": [
        "12. Declara el siguiente arreglo y posteriormente indica que sea de tipo `integer`\n",
        "\n",
        "```\n",
        "arreglo = np.array([6.3,2.5,3.0,9.1,4.9])\n",
        "```"
      ]
    },
    {
      "cell_type": "code",
      "execution_count": 23,
      "metadata": {
        "id": "DsaxYQTxed6X"
      },
      "outputs": [
        {
          "name": "stdout",
          "output_type": "stream",
          "text": [
            "int32\n"
          ]
        }
      ],
      "source": [
        "arreglo = np.array([6.3,2.5,3.0,9.1,4.9], dtype = int)\n",
        "print(arreglo.dtype)"
      ]
    },
    {
      "cell_type": "markdown",
      "metadata": {
        "id": "NWHHFvHeeff5"
      },
      "source": [
        "12. Redacta la diferencia entre copiar un arrego con el comando copy() y el comando view()\n",
        "¿Que ventaja crees que tiene view()?"
      ]
    },
    {
      "cell_type": "markdown",
      "metadata": {
        "id": "YNvYaBeZgEu3"
      },
      "source": [
        "Usando copy crearemos un nuevo arreglo sin dependencia del original, con view, por el contrario crearemos una referencia al primero y cuando sea modificado, el nuevo sera modificado tambien"
      ]
    },
    {
      "cell_type": "markdown",
      "metadata": {
        "id": "OORCjevUgG5P"
      },
      "source": [
        "13. Indica cuantos elementos tiene el siguiente arreglo:\n",
        "\n",
        "```\n",
        "arreglo = np.array([1,6,9,3,4,6,8,5,10,23,5,4])\n",
        "```"
      ]
    },
    {
      "cell_type": "code",
      "execution_count": 24,
      "metadata": {
        "id": "aeWshCZ_gD81"
      },
      "outputs": [
        {
          "name": "stdout",
          "output_type": "stream",
          "text": [
            "12\n"
          ]
        }
      ],
      "source": [
        "arreglo = np.array([1,6,9,3,4,6,8,5,10,23,5,4])\n",
        "print(arreglo.size)"
      ]
    },
    {
      "cell_type": "markdown",
      "metadata": {
        "id": "R_S_CuP8iGzs"
      },
      "source": [
        "14. Indica cuantos elementos tiene el siguiente arreglo:\n",
        "```\n",
        "arreglo = np.array([[1,6,9,3,4,6],[8,5,10,23,5,4]])\n",
        "```"
      ]
    },
    {
      "cell_type": "code",
      "execution_count": 25,
      "metadata": {
        "id": "2xZuYHqbiQSG"
      },
      "outputs": [
        {
          "name": "stdout",
          "output_type": "stream",
          "text": [
            "12\n"
          ]
        }
      ],
      "source": [
        "arreglo = np.array([[1,6,9,3,4,6],[8,5,10,23,5,4]])\n",
        "print(arreglo.size)"
      ]
    },
    {
      "cell_type": "markdown",
      "metadata": {
        "id": "wWveH7o_ichP"
      },
      "source": [
        "14. Redimensiona el siguiente arreglo de 1-D a 2-D con 3 subarreglos y que contengan 4 elementos en cada segmento:\n",
        "\n",
        "```\n",
        "arreglo = np.array([1,6,9,3,4,6,8,5,10,23,5,4])\n",
        "```"
      ]
    },
    {
      "cell_type": "code",
      "execution_count": 26,
      "metadata": {
        "id": "dUvS5B5hjbb1"
      },
      "outputs": [
        {
          "data": {
            "text/plain": [
              "array([[ 1,  6,  9,  3],\n",
              "       [ 4,  6,  8,  5],\n",
              "       [10, 23,  5,  4]])"
            ]
          },
          "execution_count": 26,
          "metadata": {},
          "output_type": "execute_result"
        }
      ],
      "source": [
        "arreglo = np.array([1,6,9,3,4,6,8,5,10,23,5,4])\n",
        "arreglo.reshape(3,4)"
      ]
    },
    {
      "cell_type": "markdown",
      "metadata": {
        "id": "JV6s9fsRkNCO"
      },
      "source": [
        "15. Redimensiona el siguiente arreglo de 2-D a 1-D:\n",
        "\n",
        "```\n",
        "arreglo = np.array([[1,6,9,3,4,6],[8,5,10,23,5,4]])\n",
        "```"
      ]
    },
    {
      "cell_type": "code",
      "execution_count": 27,
      "metadata": {
        "id": "DBGhXv2ckssr"
      },
      "outputs": [
        {
          "data": {
            "text/plain": [
              "array([ 1,  6,  9,  3,  4,  6,  8,  5, 10, 23,  5,  4])"
            ]
          },
          "execution_count": 27,
          "metadata": {},
          "output_type": "execute_result"
        }
      ],
      "source": [
        "arreglo = np.array([[1,6,9,3,4,6],[8,5,10,23,5,4]])\n",
        "arreglo.flatten()"
      ]
    }
  ],
  "metadata": {
    "colab": {
      "name": "[Template] Ejercicios_Numpy.ipynb",
      "provenance": []
    },
    "interpreter": {
      "hash": "7f8b8ff422d2ecc6ce58078be4c9d3ca712ae43126dd3eecc3379410a87d5d27"
    },
    "kernelspec": {
      "display_name": "Python 3.10.4 ('MLCourse')",
      "language": "python",
      "name": "python3"
    },
    "language_info": {
      "codemirror_mode": {
        "name": "ipython",
        "version": 3
      },
      "file_extension": ".py",
      "mimetype": "text/x-python",
      "name": "python",
      "nbconvert_exporter": "python",
      "pygments_lexer": "ipython3",
      "version": "3.10.4"
    }
  },
  "nbformat": 4,
  "nbformat_minor": 0
}
