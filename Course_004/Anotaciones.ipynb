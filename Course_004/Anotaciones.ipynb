{
 "cells": [
  {
   "cell_type": "markdown",
   "id": "8fac81eb",
   "metadata": {},
   "source": [
    "# Machine Learning Course - Day 4"
   ]
  },
  {
   "cell_type": "markdown",
   "id": "0e962fdd",
   "metadata": {},
   "source": [
    "Primero que nada, importaremos la libreria numpy, previamente instalada y crearemos un arreglo para ver que se haya instalado correctamente"
   ]
  },
  {
   "cell_type": "code",
   "execution_count": 1,
   "id": "b53ffe20",
   "metadata": {},
   "outputs": [],
   "source": [
    "import numpy\n",
    "arreglo = numpy.array([1,2,3,4,5])"
   ]
  },
  {
   "cell_type": "code",
   "execution_count": 2,
   "id": "70cc3244",
   "metadata": {},
   "outputs": [
    {
     "data": {
      "text/plain": [
       "numpy.ndarray"
      ]
     },
     "execution_count": 2,
     "metadata": {},
     "output_type": "execute_result"
    }
   ],
   "source": [
    "type(arreglo)"
   ]
  },
  {
   "cell_type": "code",
   "execution_count": 3,
   "id": "7a33c206",
   "metadata": {},
   "outputs": [
    {
     "data": {
      "text/plain": [
       "2"
      ]
     },
     "execution_count": 3,
     "metadata": {},
     "output_type": "execute_result"
    }
   ],
   "source": [
    "arreglo[1]"
   ]
  },
  {
   "cell_type": "markdown",
   "id": "1ffc01ba",
   "metadata": {},
   "source": [
    "En dado caso de que solamente quisieramos utilizar un solo metodo de la libreria podriamos especificarlo en el import, si embargo, librerias como numpy siempre se importan completas ya que siempre se usa mas de un metodo"
   ]
  },
  {
   "cell_type": "code",
   "execution_count": 6,
   "id": "e5779450",
   "metadata": {},
   "outputs": [],
   "source": [
    "from numpy import array\n",
    "\n",
    "# Muchas veces se acostumbra poner un alias a la importacion\n",
    "import numpy as np"
   ]
  },
  {
   "cell_type": "markdown",
   "id": "6176156b",
   "metadata": {},
   "source": [
    "Es importante especificar las dimensiones que tendra nuestro arreglo utilizando los corchetes, de esta forma la libreria podria crear nuestro arreglo para poder usarlo"
   ]
  },
  {
   "cell_type": "code",
   "execution_count": 7,
   "id": "8d0a819d",
   "metadata": {},
   "outputs": [],
   "source": [
    "arreglo_unidimencional = np.array([1,2,3,4,5])\n",
    "\n",
    "# Para este caso especifico se tiene un arreglo, cuyo contenido son 2 arreglos, esto hace que este sea bidimencional\n",
    "arreglo_bidimencional = np.array([[1,2,3],[4,5,6]])"
   ]
  },
  {
   "cell_type": "code",
   "execution_count": 8,
   "id": "93750059",
   "metadata": {},
   "outputs": [
    {
     "name": "stdout",
     "output_type": "stream",
     "text": [
      "[[1 2 3]\n",
      " [4 5 6]]\n"
     ]
    }
   ],
   "source": [
    "print(arreglo_bidimencional)"
   ]
  },
  {
   "cell_type": "markdown",
   "id": "e559616d",
   "metadata": {},
   "source": [
    "Si buscaramos saber el tamaño de nuestro arreglo, usaremos la propiedad ndim"
   ]
  },
  {
   "cell_type": "code",
   "execution_count": 10,
   "id": "c01d9c76",
   "metadata": {},
   "outputs": [
    {
     "name": "stdout",
     "output_type": "stream",
     "text": [
      "2\n"
     ]
    }
   ],
   "source": [
    "print(arreglo_bidimencional.ndim)"
   ]
  },
  {
   "cell_type": "markdown",
   "id": "5f2bb077",
   "metadata": {},
   "source": [
    "Aunque tambien podemos usar la funcion len() para saber la cantidad de valores en el arreglo y poder acceder a las posiciones del arreglo"
   ]
  },
  {
   "cell_type": "code",
   "execution_count": 13,
   "id": "d9ea7a25",
   "metadata": {},
   "outputs": [
    {
     "name": "stdout",
     "output_type": "stream",
     "text": [
      "3\n",
      "4\n",
      "5\n",
      "12\n",
      "34\n",
      "4\n",
      "5\n",
      "2\n",
      "4\n"
     ]
    }
   ],
   "source": [
    "arreglo_muchos_valores = np.array([3,4,5,12,34,4,5,2,4,])\n",
    "for i in range(len(arreglo_muchos_valores)):\n",
    "    print(arreglo_muchos_valores[i])"
   ]
  },
  {
   "cell_type": "markdown",
   "id": "f303a711",
   "metadata": {},
   "source": [
    "Para acceder a la lista a la inversa, usamos valores negativos"
   ]
  },
  {
   "cell_type": "code",
   "execution_count": 17,
   "id": "23b42b2f",
   "metadata": {},
   "outputs": [
    {
     "name": "stdout",
     "output_type": "stream",
     "text": [
      "El ultimo valor es: 4\n",
      "El penultimo valor es: 2\n"
     ]
    }
   ],
   "source": [
    "print(\"El ultimo valor es: \" + str(arreglo_muchos_valores[-1]))\n",
    "print(\"El penultimo valor es: \" + str(arreglo_muchos_valores[-2]))"
   ]
  },
  {
   "cell_type": "markdown",
   "id": "53ad1649",
   "metadata": {},
   "source": [
    "En el caso de querer acceder a un arreglo bidimencional debemos usar las coordenadas del valor que buscamos, esto lo podemos hacer con ciclos anidados o bien accediendo directamente"
   ]
  },
  {
   "cell_type": "code",
   "execution_count": 18,
   "id": "538aa91a",
   "metadata": {},
   "outputs": [
    {
     "name": "stdout",
     "output_type": "stream",
     "text": [
      "1\n"
     ]
    }
   ],
   "source": [
    "print(arreglo_bidimencional[0,0])"
   ]
  },
  {
   "cell_type": "markdown",
   "id": "25b8d47e",
   "metadata": {},
   "source": [
    "Tambien podemos hacer algo llamado Slicing, lo cual consiste en seleccionar especificamente entre que secciones del arreglo estaremos iterando"
   ]
  },
  {
   "cell_type": "code",
   "execution_count": 19,
   "id": "b126358e",
   "metadata": {},
   "outputs": [
    {
     "name": "stdout",
     "output_type": "stream",
     "text": [
      "[ 5 12 34]\n"
     ]
    }
   ],
   "source": [
    "print(arreglo_muchos_valores[2:5])"
   ]
  },
  {
   "cell_type": "markdown",
   "id": "db6a8a1e",
   "metadata": {},
   "source": [
    "Si quieres recorrer el arreglo por medio de saltos, puedes mandar un tercer parametro separado por dos puntos"
   ]
  },
  {
   "cell_type": "code",
   "execution_count": 20,
   "id": "a3b1f094",
   "metadata": {},
   "outputs": [
    {
     "name": "stdout",
     "output_type": "stream",
     "text": [
      "[ 3  5 34  5]\n"
     ]
    }
   ],
   "source": [
    "print(arreglo_muchos_valores[0:-1:2])"
   ]
  },
  {
   "cell_type": "markdown",
   "id": "5b290bc3",
   "metadata": {},
   "source": [
    "# Typos de datos "
   ]
  },
  {
   "cell_type": "markdown",
   "id": "8ca681f5",
   "metadata": {},
   "source": [
    "En python tenemos una gran cantidad de tipos de datos, especificamente para los tipos de datos que reconocen los arreglos de python, utilizaremos el metodo dtype"
   ]
  },
  {
   "cell_type": "code",
   "execution_count": 27,
   "id": "5ca46466",
   "metadata": {},
   "outputs": [
    {
     "name": "stdout",
     "output_type": "stream",
     "text": [
      "int32\n",
      "<U11\n"
     ]
    }
   ],
   "source": [
    "arrego_tipo_dato = np.array([1,2,3,4,5])\n",
    "print(arrego_tipo_dato.dtype)\n",
    "\n",
    "arrego_tipos_datos = np.array([\"oso\",True,1])\n",
    "print(arrego_tipos_datos.dtype)"
   ]
  },
  {
   "cell_type": "markdown",
   "id": "23b05374",
   "metadata": {},
   "source": [
    "Para copiar un arreglo podemos utilizar la funcion copy()"
   ]
  },
  {
   "cell_type": "code",
   "execution_count": 28,
   "id": "a24327c3",
   "metadata": {},
   "outputs": [
    {
     "name": "stdout",
     "output_type": "stream",
     "text": [
      "[1 2 3 4 5]\n",
      "[1 2 3 4 5]\n"
     ]
    }
   ],
   "source": [
    "arreglo_uno = np.array([1,2,3,4,5])\n",
    "arreglo_copia = arreglo_uno.copy()\n",
    "\n",
    "print(arreglo_uno)\n",
    "print(arreglo_copia)"
   ]
  },
  {
   "cell_type": "code",
   "execution_count": null,
   "id": "3cf5b5f7",
   "metadata": {},
   "outputs": [],
   "source": []
  }
 ],
 "metadata": {
  "interpreter": {
   "hash": "7f8b8ff422d2ecc6ce58078be4c9d3ca712ae43126dd3eecc3379410a87d5d27"
  },
  "kernelspec": {
   "display_name": "Python 3 (ipykernel)",
   "language": "python",
   "name": "python3"
  },
  "language_info": {
   "codemirror_mode": {
    "name": "ipython",
    "version": 3
   },
   "file_extension": ".py",
   "mimetype": "text/x-python",
   "name": "python",
   "nbconvert_exporter": "python",
   "pygments_lexer": "ipython3",
   "version": "3.10.4"
  }
 },
 "nbformat": 4,
 "nbformat_minor": 5
}
