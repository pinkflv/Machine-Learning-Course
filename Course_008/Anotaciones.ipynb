{
 "cells": [
  {
   "cell_type": "markdown",
   "id": "8fac81eb",
   "metadata": {},
   "source": [
    "# Machine Learning Course - Day 8\n"
   ]
  },
  {
   "cell_type": "markdown",
   "id": "f2d26a6d",
   "metadata": {},
   "source": [
    "# Preprocesado de datos"
   ]
  },
  {
   "cell_type": "markdown",
   "id": "c37af38d",
   "metadata": {},
   "source": [
    "Normalmente  las acciones que se suelen hacer en esta etapa son:\n",
    "\n",
    "    - Limpieza de datos.\n",
    "    - Analisis y representacion de datos.\n",
    "    - Unificacion de datos.\n",
    "    - Estandarizacion de datos.\n",
    "    "
   ]
  },
  {
   "cell_type": "markdown",
   "id": "675c2ced",
   "metadata": {},
   "source": [
    "La razon de existir esta etapa es que cuando se recolectan los datos, no se suele ser de forma controlada, los datos crudos suelen tener a menudo valores atipicos (Outliners), un ejemplo de esto puede ser un censo, en el cual una persona puede llegar a tener 120 años, valores nulos, problemas con las escalas de los valores, etc."
   ]
  },
  {
   "cell_type": "markdown",
   "id": "02c946d1",
   "metadata": {},
   "source": [
    "Esta etapa tiene una gran importancia ya que es la etapa a la que mas tiempo se le dedica, todo por obtener los datos limpios sin ninguna inconsistencia"
   ]
  },
  {
   "cell_type": "markdown",
   "id": "2d8fa920",
   "metadata": {},
   "source": [
    "# Representacion de los datos"
   ]
  },
  {
   "cell_type": "markdown",
   "id": "bf2f1294",
   "metadata": {},
   "source": [
    "El objetivo principal del Machine Learning es entender los datos y encontrar patrones. Para cumplir con ello, es muy importante ingresar los datos de forma que sea interpretable por la computadora."
   ]
  },
  {
   "cell_type": "markdown",
   "id": "bd9aee00",
   "metadata": {},
   "source": [
    "# Variables Independientes y Objetivo\n"
   ]
  },
  {
   "cell_type": "markdown",
   "id": "66a7e49d",
   "metadata": {},
   "source": [
    "Los Dataframe son utilizados para almacenar las variable o caracteristicas y estos pueden ser clasificados de 2 formas:\n",
    "    - Variables independientes ( predictores )\n",
    "    - Variables dependientes ( targets )\n",
    "\n",
    "Las variables independientes son utilizadas para predecir las variables target. Como su nombre lo sugiere, las variables independientes son independientes unas de otras. En caso de que no sea asi, esto debera ser abordado en la etapa de preprocesado"
   ]
  },
  {
   "cell_type": "markdown",
   "id": "a7833937",
   "metadata": {},
   "source": [
    "# Exploracion de los datos"
   ]
  },
  {
   "cell_type": "code",
   "execution_count": 1,
   "id": "052ffb34",
   "metadata": {},
   "outputs": [],
   "source": [
    "import numpy as np\n",
    "import pandas as pd"
   ]
  },
  {
   "cell_type": "code",
   "execution_count": 2,
   "id": "7345589e",
   "metadata": {},
   "outputs": [],
   "source": [
    "df = pd.read_csv(\"data.csv\")"
   ]
  },
  {
   "cell_type": "markdown",
   "id": "58c7818a",
   "metadata": {},
   "source": [
    "Como vemos nuestros datos representados?"
   ]
  },
  {
   "cell_type": "code",
   "execution_count": 8,
   "id": "fa74548a",
   "metadata": {},
   "outputs": [
    {
     "data": {
      "text/html": [
       "<div>\n",
       "<style scoped>\n",
       "    .dataframe tbody tr th:only-of-type {\n",
       "        vertical-align: middle;\n",
       "    }\n",
       "\n",
       "    .dataframe tbody tr th {\n",
       "        vertical-align: top;\n",
       "    }\n",
       "\n",
       "    .dataframe thead th {\n",
       "        text-align: right;\n",
       "    }\n",
       "</style>\n",
       "<table border=\"1\" class=\"dataframe\">\n",
       "  <thead>\n",
       "    <tr style=\"text-align: right;\">\n",
       "      <th></th>\n",
       "      <th>Country</th>\n",
       "      <th>Age</th>\n",
       "      <th>Salary</th>\n",
       "      <th>Purchased</th>\n",
       "    </tr>\n",
       "  </thead>\n",
       "  <tbody>\n",
       "    <tr>\n",
       "      <th>0</th>\n",
       "      <td>France</td>\n",
       "      <td>44.0</td>\n",
       "      <td>72000.0</td>\n",
       "      <td>No</td>\n",
       "    </tr>\n",
       "    <tr>\n",
       "      <th>1</th>\n",
       "      <td>Spain</td>\n",
       "      <td>27.0</td>\n",
       "      <td>48000.0</td>\n",
       "      <td>Yes</td>\n",
       "    </tr>\n",
       "    <tr>\n",
       "      <th>2</th>\n",
       "      <td>Germany</td>\n",
       "      <td>30.0</td>\n",
       "      <td>54000.0</td>\n",
       "      <td>No</td>\n",
       "    </tr>\n",
       "    <tr>\n",
       "      <th>3</th>\n",
       "      <td>Spain</td>\n",
       "      <td>38.0</td>\n",
       "      <td>61000.0</td>\n",
       "      <td>No</td>\n",
       "    </tr>\n",
       "    <tr>\n",
       "      <th>4</th>\n",
       "      <td>Germany</td>\n",
       "      <td>40.0</td>\n",
       "      <td>NaN</td>\n",
       "      <td>Yes</td>\n",
       "    </tr>\n",
       "  </tbody>\n",
       "</table>\n",
       "</div>"
      ],
      "text/plain": [
       "   Country   Age   Salary Purchased\n",
       "0   France  44.0  72000.0        No\n",
       "1    Spain  27.0  48000.0       Yes\n",
       "2  Germany  30.0  54000.0        No\n",
       "3    Spain  38.0  61000.0        No\n",
       "4  Germany  40.0      NaN       Yes"
      ]
     },
     "execution_count": 8,
     "metadata": {},
     "output_type": "execute_result"
    }
   ],
   "source": [
    "# Head solo mostrara los primeros 5 datos, pero puede agregarle un valor al metodo y mostrara mas\n",
    "df.head() "
   ]
  },
  {
   "cell_type": "markdown",
   "id": "2a7affa8",
   "metadata": {},
   "source": [
    "Cuantas columnas tiene mi CSv?"
   ]
  },
  {
   "cell_type": "code",
   "execution_count": 9,
   "id": "e5bad8de",
   "metadata": {},
   "outputs": [
    {
     "data": {
      "text/plain": [
       "Index(['Country', 'Age', 'Salary', 'Purchased'], dtype='object')"
      ]
     },
     "execution_count": 9,
     "metadata": {},
     "output_type": "execute_result"
    }
   ],
   "source": [
    "df.columns"
   ]
  },
  {
   "cell_type": "markdown",
   "id": "7f643243",
   "metadata": {},
   "source": [
    "Como identificaremos nuestros registros?"
   ]
  },
  {
   "cell_type": "code",
   "execution_count": 10,
   "id": "d31fe200",
   "metadata": {},
   "outputs": [
    {
     "data": {
      "text/plain": [
       "RangeIndex(start=0, stop=10, step=1)"
      ]
     },
     "execution_count": 10,
     "metadata": {},
     "output_type": "execute_result"
    }
   ],
   "source": [
    "df.index"
   ]
  },
  {
   "cell_type": "markdown",
   "id": "516b4733",
   "metadata": {},
   "source": [
    "Cuantos datos tengo?"
   ]
  },
  {
   "cell_type": "code",
   "execution_count": 11,
   "id": "c2cdf397",
   "metadata": {},
   "outputs": [
    {
     "data": {
      "text/plain": [
       "(10, 4)"
      ]
     },
     "execution_count": 11,
     "metadata": {},
     "output_type": "execute_result"
    }
   ],
   "source": [
    "df.shape"
   ]
  },
  {
   "cell_type": "markdown",
   "id": "a122c804",
   "metadata": {},
   "source": [
    "Cuantos datos nulos tengo?"
   ]
  },
  {
   "cell_type": "code",
   "execution_count": 12,
   "id": "daa40683",
   "metadata": {},
   "outputs": [
    {
     "name": "stdout",
     "output_type": "stream",
     "text": [
      "<class 'pandas.core.frame.DataFrame'>\n",
      "RangeIndex: 10 entries, 0 to 9\n",
      "Data columns (total 4 columns):\n",
      " #   Column     Non-Null Count  Dtype  \n",
      "---  ------     --------------  -----  \n",
      " 0   Country    10 non-null     object \n",
      " 1   Age        9 non-null      float64\n",
      " 2   Salary     9 non-null      float64\n",
      " 3   Purchased  10 non-null     object \n",
      "dtypes: float64(2), object(2)\n",
      "memory usage: 448.0+ bytes\n"
     ]
    }
   ],
   "source": [
    "df.info()"
   ]
  },
  {
   "cell_type": "markdown",
   "id": "b67a310e",
   "metadata": {},
   "source": [
    "# Limpieza de datos"
   ]
  },
  {
   "cell_type": "markdown",
   "id": "b48533bc",
   "metadata": {},
   "source": [
    "En esta ocacion solo estaremos remplazando los valores nulos, sin embargo tambien hay que eliminar los datos anomals y los datos categoricos, entre otros."
   ]
  },
  {
   "cell_type": "code",
   "execution_count": 16,
   "id": "d587a19e",
   "metadata": {},
   "outputs": [
    {
     "data": {
      "text/plain": [
       "Country      0\n",
       "Age          1\n",
       "Salary       1\n",
       "Purchased    0\n",
       "dtype: int64"
      ]
     },
     "execution_count": 16,
     "metadata": {},
     "output_type": "execute_result"
    }
   ],
   "source": [
    "# Podemos usar el metodo isna para saber si se encuentran datos nulos, pero tambien podemos concadenarle el metodo sum, para poder observar la cantidad de datos nulos\n",
    "df.isna().sum()"
   ]
  },
  {
   "cell_type": "markdown",
   "id": "5065ee51",
   "metadata": {},
   "source": [
    "Creamos una copia del dataframe que teniamos y con apoyo del metodo dropna, podremos eliminar los datos nulos, sin embargo al hacerlo tendremos menos datos y puede llegar a ser perjudicial para nuestro analisis"
   ]
  },
  {
   "cell_type": "code",
   "execution_count": 20,
   "id": "34e72d3a",
   "metadata": {},
   "outputs": [],
   "source": [
    "df2 = df.dropna()"
   ]
  },
  {
   "cell_type": "code",
   "execution_count": 21,
   "id": "12109909",
   "metadata": {},
   "outputs": [
    {
     "data": {
      "text/html": [
       "<div>\n",
       "<style scoped>\n",
       "    .dataframe tbody tr th:only-of-type {\n",
       "        vertical-align: middle;\n",
       "    }\n",
       "\n",
       "    .dataframe tbody tr th {\n",
       "        vertical-align: top;\n",
       "    }\n",
       "\n",
       "    .dataframe thead th {\n",
       "        text-align: right;\n",
       "    }\n",
       "</style>\n",
       "<table border=\"1\" class=\"dataframe\">\n",
       "  <thead>\n",
       "    <tr style=\"text-align: right;\">\n",
       "      <th></th>\n",
       "      <th>Country</th>\n",
       "      <th>Age</th>\n",
       "      <th>Salary</th>\n",
       "      <th>Purchased</th>\n",
       "    </tr>\n",
       "  </thead>\n",
       "  <tbody>\n",
       "    <tr>\n",
       "      <th>0</th>\n",
       "      <td>France</td>\n",
       "      <td>44.0</td>\n",
       "      <td>72000.0</td>\n",
       "      <td>No</td>\n",
       "    </tr>\n",
       "    <tr>\n",
       "      <th>1</th>\n",
       "      <td>Spain</td>\n",
       "      <td>27.0</td>\n",
       "      <td>48000.0</td>\n",
       "      <td>Yes</td>\n",
       "    </tr>\n",
       "    <tr>\n",
       "      <th>2</th>\n",
       "      <td>Germany</td>\n",
       "      <td>30.0</td>\n",
       "      <td>54000.0</td>\n",
       "      <td>No</td>\n",
       "    </tr>\n",
       "    <tr>\n",
       "      <th>3</th>\n",
       "      <td>Spain</td>\n",
       "      <td>38.0</td>\n",
       "      <td>61000.0</td>\n",
       "      <td>No</td>\n",
       "    </tr>\n",
       "    <tr>\n",
       "      <th>5</th>\n",
       "      <td>France</td>\n",
       "      <td>35.0</td>\n",
       "      <td>58000.0</td>\n",
       "      <td>Yes</td>\n",
       "    </tr>\n",
       "    <tr>\n",
       "      <th>7</th>\n",
       "      <td>France</td>\n",
       "      <td>48.0</td>\n",
       "      <td>79000.0</td>\n",
       "      <td>Yes</td>\n",
       "    </tr>\n",
       "    <tr>\n",
       "      <th>8</th>\n",
       "      <td>Germany</td>\n",
       "      <td>50.0</td>\n",
       "      <td>83000.0</td>\n",
       "      <td>No</td>\n",
       "    </tr>\n",
       "    <tr>\n",
       "      <th>9</th>\n",
       "      <td>France</td>\n",
       "      <td>37.0</td>\n",
       "      <td>67000.0</td>\n",
       "      <td>Yes</td>\n",
       "    </tr>\n",
       "  </tbody>\n",
       "</table>\n",
       "</div>"
      ],
      "text/plain": [
       "   Country   Age   Salary Purchased\n",
       "0   France  44.0  72000.0        No\n",
       "1    Spain  27.0  48000.0       Yes\n",
       "2  Germany  30.0  54000.0        No\n",
       "3    Spain  38.0  61000.0        No\n",
       "5   France  35.0  58000.0       Yes\n",
       "7   France  48.0  79000.0       Yes\n",
       "8  Germany  50.0  83000.0        No\n",
       "9   France  37.0  67000.0       Yes"
      ]
     },
     "execution_count": 21,
     "metadata": {},
     "output_type": "execute_result"
    }
   ],
   "source": [
    "df2.head(10)"
   ]
  },
  {
   "cell_type": "code",
   "execution_count": 22,
   "id": "e631ae3b",
   "metadata": {},
   "outputs": [
    {
     "data": {
      "text/plain": [
       "(8, 4)"
      ]
     },
     "execution_count": 22,
     "metadata": {},
     "output_type": "execute_result"
    }
   ],
   "source": [
    "df2.shape"
   ]
  }
 ],
 "metadata": {
  "interpreter": {
   "hash": "7f8b8ff422d2ecc6ce58078be4c9d3ca712ae43126dd3eecc3379410a87d5d27"
  },
  "kernelspec": {
   "display_name": "Python 3 (ipykernel)",
   "language": "python",
   "name": "python3"
  },
  "language_info": {
   "codemirror_mode": {
    "name": "ipython",
    "version": 3
   },
   "file_extension": ".py",
   "mimetype": "text/x-python",
   "name": "python",
   "nbconvert_exporter": "python",
   "pygments_lexer": "ipython3",
   "version": "3.10.4"
  }
 },
 "nbformat": 4,
 "nbformat_minor": 5
}
