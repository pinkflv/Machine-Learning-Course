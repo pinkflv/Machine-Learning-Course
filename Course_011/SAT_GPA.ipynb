{
 "cells": [
  {
   "cell_type": "markdown",
   "id": "8fac81eb",
   "metadata": {},
   "source": [
    "# Machine Learning Course - Day 11\n"
   ]
  },
  {
   "cell_type": "markdown",
   "id": "9945a70e",
   "metadata": {},
   "source": [
    "### SAT_GPA Data"
   ]
  },
  {
   "cell_type": "markdown",
   "id": "9eb1ec5d",
   "metadata": {},
   "source": [
    "Dentro de este dataset se encuentran 2 columnas, la primera son las calificaciones de un alumno en la prueba SAT Reasoning Test y la segunda contiene la calificacion del alumno segun el promedio de calificaciones GPA a escala de 4 ."
   ]
  },
  {
   "cell_type": "code",
   "execution_count": 2,
   "id": "13c5652c",
   "metadata": {},
   "outputs": [],
   "source": [
    "# importamos las librerias \n",
    "import pandas as pd\n",
    "import numpy as np\n",
    "import matplotlib.pyplot as plt\n",
    "from sklearn.linear_model import LinearRegression\n",
    "from sklearn.model_selection import train_test_split"
   ]
  },
  {
   "cell_type": "code",
   "execution_count": 3,
   "id": "fe195b84",
   "metadata": {},
   "outputs": [],
   "source": [
    "# cargamos el data frame \n",
    "df = pd.read_csv(\"http://virtualfif.uaq.mx/diplomado/data/practica_1/SAT_GPA.csv\")"
   ]
  },
  {
   "cell_type": "code",
   "execution_count": 4,
   "id": "9f3989b7",
   "metadata": {},
   "outputs": [
    {
     "data": {
      "text/html": [
       "<div>\n",
       "<style scoped>\n",
       "    .dataframe tbody tr th:only-of-type {\n",
       "        vertical-align: middle;\n",
       "    }\n",
       "\n",
       "    .dataframe tbody tr th {\n",
       "        vertical-align: top;\n",
       "    }\n",
       "\n",
       "    .dataframe thead th {\n",
       "        text-align: right;\n",
       "    }\n",
       "</style>\n",
       "<table border=\"1\" class=\"dataframe\">\n",
       "  <thead>\n",
       "    <tr style=\"text-align: right;\">\n",
       "      <th></th>\n",
       "      <th>SAT</th>\n",
       "      <th>GPA</th>\n",
       "    </tr>\n",
       "  </thead>\n",
       "  <tbody>\n",
       "    <tr>\n",
       "      <th>0</th>\n",
       "      <td>1714</td>\n",
       "      <td>2.40</td>\n",
       "    </tr>\n",
       "    <tr>\n",
       "      <th>1</th>\n",
       "      <td>1664</td>\n",
       "      <td>2.52</td>\n",
       "    </tr>\n",
       "    <tr>\n",
       "      <th>2</th>\n",
       "      <td>1760</td>\n",
       "      <td>2.54</td>\n",
       "    </tr>\n",
       "    <tr>\n",
       "      <th>3</th>\n",
       "      <td>1685</td>\n",
       "      <td>2.74</td>\n",
       "    </tr>\n",
       "    <tr>\n",
       "      <th>4</th>\n",
       "      <td>1693</td>\n",
       "      <td>2.83</td>\n",
       "    </tr>\n",
       "  </tbody>\n",
       "</table>\n",
       "</div>"
      ],
      "text/plain": [
       "    SAT   GPA\n",
       "0  1714  2.40\n",
       "1  1664  2.52\n",
       "2  1760  2.54\n",
       "3  1685  2.74\n",
       "4  1693  2.83"
      ]
     },
     "execution_count": 4,
     "metadata": {},
     "output_type": "execute_result"
    }
   ],
   "source": [
    "# analizamos los datos existentes\n",
    "df.head()"
   ]
  },
  {
   "cell_type": "code",
   "execution_count": 5,
   "id": "76a4562b",
   "metadata": {},
   "outputs": [
    {
     "data": {
      "image/png": "[encoded data removed]",
      "text/plain": [
       "<Figure size 432x288 with 1 Axes>"
      ]
     },
     "metadata": {
      "needs_background": "light"
     },
     "output_type": "display_data"
    }
   ],
   "source": [
    "# creamos un plot para poder visualizar los datos antes de procesarlos\n",
    "plt.title(\"SAT GPA Data\")\n",
    "plt.scatter(df[\"SAT\"],df[\"GPA\"])\n",
    "plt.ylabel(\"GPA\")\n",
    "plt.xlabel(\"SAT\")\n",
    "plt.grid(1)\n",
    "plt.show()"
   ]
  },
  {
   "cell_type": "code",
   "execution_count": 6,
   "id": "f728f47e",
   "metadata": {},
   "outputs": [],
   "source": [
    "# hacemos la seleccion de datos y preprocesado\n",
    "X = df.iloc[:,:-1].values\n",
    "y = df.iloc[:,1].values\n",
    "X_train, X_test, y_train, y_test = train_test_split(X,y,test_size=1/5,random_state=666)"
   ]
  },
  {
   "cell_type": "code",
   "execution_count": 7,
   "id": "5d2f8979",
   "metadata": {},
   "outputs": [],
   "source": [
    "# entrenamos el modelo\n",
    "X_train.size\n",
    "modelo = LinearRegression()\n",
    "modelo.fit(X_train,y_train)\n",
    "modelo.fit(X_train,y_train)\n",
    "y_pred = modelo.predict(X)"
   ]
  },
  {
   "cell_type": "code",
   "execution_count": 8,
   "id": "52dbde6d",
   "metadata": {},
   "outputs": [
    {
     "data": {
      "image/png": "[encoded data removed]",
      "text/plain": [
       "<Figure size 432x288 with 1 Axes>"
      ]
     },
     "metadata": {
      "needs_background": "light"
     },
     "output_type": "display_data"
    }
   ],
   "source": [
    "# mostramos la regresion lineal obtenida\n",
    "plt.title(\"SAT GPA Lineal Regression\")\n",
    "plt.scatter(df[\"SAT\"],df[\"GPA\"])\n",
    "plt.plot(X,y_pred, color = \"red\")\n",
    "plt.ylabel(\"GPA\")\n",
    "plt.xlabel(\"SAT\")\n",
    "plt.grid(1)\n",
    "plt.show()"
   ]
  }
 ],
 "metadata": {
  "interpreter": {
   "hash": "7f8b8ff422d2ecc6ce58078be4c9d3ca712ae43126dd3eecc3379410a87d5d27"
  },
  "kernelspec": {
   "display_name": "Python 3 (ipykernel)",
   "language": "python",
   "name": "python3"
  },
  "language_info": {
   "codemirror_mode": {
    "name": "ipython",
    "version": 3
   },
   "file_extension": ".py",
   "mimetype": "text/x-python",
   "name": "python",
   "nbconvert_exporter": "python",
   "pygments_lexer": "ipython3",
   "version": "3.10.4"
  }
 },
 "nbformat": 4,
 "nbformat_minor": 5
}
